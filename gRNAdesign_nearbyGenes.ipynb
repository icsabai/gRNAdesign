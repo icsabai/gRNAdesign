{
 "cells": [
  {
   "cell_type": "markdown",
   "metadata": {
    "extensions": {
     "jupyter_dashboards": {
      "version": 1,
      "views": {
       "grid_default": {
        "col": 0,
        "height": 3,
        "hidden": false,
        "row": 0,
        "width": 6
       },
       "report_default": {
        "hidden": false
       }
      }
     }
    }
   },
   "source": [
    "# Guide RNA design for genes nearby given dbSNP positions  "
   ]
  },
  {
   "cell_type": "code",
   "execution_count": 1,
   "metadata": {
    "ExecuteTime": {
     "end_time": "2016-02-24T12:01:52.156733",
     "start_time": "2016-02-24T12:01:52.139501"
    },
    "collapsed": false,
    "extensions": {
     "jupyter_dashboards": {
      "version": 1,
      "views": {
       "grid_default": {
        "col": 0,
        "height": 2,
        "hidden": true,
        "row": 3,
        "width": 6
       },
       "report_default": {
        "hidden": false
       }
      }
     }
    },
    "scrolled": true
   },
   "outputs": [
    {
     "data": {
      "text/html": [
       "<script>\n",
       "code_show=true; \n",
       "function code_toggle() {\n",
       " if (code_show){\n",
       " $('div.input').show();\n",
       " } else {\n",
       " $('div.input').hide();\n",
       " }\n",
       " code_show = !code_show\n",
       "} \n",
       "$( document ).ready(code_toggle);\n",
       "</script>\n",
       "<form action=\"javascript:code_toggle()\"><input type=\"submit\" value=\"See usage information at the end! Click here to toggle on/off the raw code. \"></form>"
      ],
      "text/plain": [
       "<IPython.core.display.HTML object>"
      ]
     },
     "execution_count": 1,
     "metadata": {},
     "output_type": "execute_result"
    }
   ],
   "source": [
    "from IPython.core.display import HTML\n",
    "HTML('''\n",
    "<style>\n",
    "    div.prompt {display:none}\n",
    "    div.cell{\n",
    "        width:100%;\n",
    "        margin-left:1%;\n",
    "        margin-right:1%;\n",
    "    }\n",
    "</style>''')\n",
    "\n",
    "# shift code cells\n",
    "HTML('''\n",
    "<style>\n",
    "    div.input{\n",
    "        width:100%;\n",
    "        padding-left:2em;\n",
    "        padding-right:0em;\n",
    "    }\n",
    "</style>''')\n",
    "# code toggle button\n",
    "HTML('''<script>\n",
    "code_show=true; \n",
    "function code_toggle() {\n",
    " if (code_show){\n",
    " $('div.input').show();\n",
    " } else {\n",
    " $('div.input').hide();\n",
    " }\n",
    " code_show = !code_show\n",
    "} \n",
    "$( document ).ready(code_toggle);\n",
    "</script>\n",
    "<form action=\"javascript:code_toggle()\"><input type=\"submit\" value=\"See usage information at the end! Click here to toggle on/off the raw code. \"></form>''')"
   ]
  },
  {
   "cell_type": "code",
   "execution_count": 2,
   "metadata": {
    "collapsed": false,
    "extensions": {
     "jupyter_dashboards": {
      "version": 1,
      "views": {
       "grid_default": {
        "col": 6,
        "height": 4,
        "hidden": true,
        "row": 0,
        "width": 4
       },
       "report_default": {
        "hidden": false
       }
      }
     }
    }
   },
   "outputs": [
    {
     "data": {
      "text/html": [
       "<style>\n",
       ".blueButton { background: cornflowerblue; foreground: white}\n",
       "</style>"
      ],
      "text/plain": [
       "<IPython.core.display.HTML object>"
      ]
     },
     "metadata": {},
     "output_type": "display_data"
    }
   ],
   "source": [
    "%%html\n",
    "<style>\n",
    ".blueButton { background: cornflowerblue; foreground: white}\n",
    "</style>"
   ]
  },
  {
   "cell_type": "code",
   "execution_count": 3,
   "metadata": {
    "collapsed": true,
    "extensions": {
     "jupyter_dashboards": {
      "version": 1,
      "views": {
       "grid_default": {
        "hidden": true
       },
       "report_default": {
        "hidden": false
       }
      }
     }
    }
   },
   "outputs": [],
   "source": [
    "from Bio import Seq\n",
    "import re\n",
    "from itertools import product\n",
    "import pandas as pd\n",
    "#  pip3.4  install sqlalchemy --user\n",
    "# pip3.4  install pymysql --user \n",
    "from sqlalchemy import create_engine\n",
    "import requests\n",
    "import xml.etree.ElementTree as ET\n",
    "from ipywidgets import *  \n",
    "from IPython.display import display "
   ]
  },
  {
   "cell_type": "code",
   "execution_count": 4,
   "metadata": {
    "collapsed": false,
    "extensions": {
     "jupyter_dashboards": {
      "version": 1,
      "views": {
       "grid_default": {
        "hidden": true
       },
       "report_default": {
        "hidden": false
       }
      }
     }
    }
   },
   "outputs": [],
   "source": [
    "# Get genomic position from UCSC based on dbSNP rs number\n",
    "# UCSC dbSNP table schema: http://ucscbrowser.genap.ca/cgi-bin/hgTables?db=hg38&hgta_group=varRep&hgta_track=snp142Common&hgta_table=snp142Common&hgta_doSchema=describe+table+schema\n",
    "# dbSnpVersion=hg38.snp142 or similar\n",
    "def getDbSnpPosition(rsIdList,dbSnpVersion):\n",
    "    rsIdStr = \"\"\n",
    "    for id in rsIdList:\n",
    "        rsIdStr += \"'\" + id + \"',\"\n",
    "    rsIdStr = rsIdStr[:-1]\n",
    "    #print(rsIdStr)\n",
    "    \n",
    "    engine = create_engine(\"mysql+pymysql://genome@genome-mysql.cse.ucsc.edu\")\n",
    "    query = \"select chrom, chromStart, chromEnd, name, observed from \" + dbSnpVersion + \" WHERE name IN (\" + rsIdStr + \")\"\n",
    "    dbSNP_data =  pd.read_sql_query(query, engine)\n",
    "    #chromRS.value = dbSNP_data.ix[0,0] # dbSNP_data['chrom']\n",
    "    #chromRSStart.value = dbSNP_data.ix[0,1] #dbSNP_data['chromStart']\n",
    "    #chromRSEnd.value = dbSNP_data.ix[0,2] #dbSNP_data['chromEnd']\n",
    "    return dbSNP_data\n"
   ]
  },
  {
   "cell_type": "code",
   "execution_count": 5,
   "metadata": {
    "collapsed": true,
    "extensions": {
     "jupyter_dashboards": {
      "version": 1,
      "views": {
       "grid_default": {
        "hidden": true
       },
       "report_default": {
        "hidden": false
       }
      }
     }
    }
   },
   "outputs": [],
   "source": [
    "rsList = ['rs339331','rs1109815','rs877343','rs2474694','rs9967549','rs2427530','rs2427531','rs78416326','rs339297','rs111770284','rs1442744','rs551721127','rs10123735','rs11168962','rs2474694','rs11672691','rs887391','rs4845688','rs1109815','rs877343','rs4845695','rs705094','rs75711918','rs1534642','rs7591175','rs6719046','rs386648104','rs386648104','rs6733913']"
   ]
  },
  {
   "cell_type": "code",
   "execution_count": 6,
   "metadata": {
    "collapsed": false,
    "extensions": {
     "jupyter_dashboards": {
      "version": 1,
      "views": {
       "grid_default": {
        "hidden": true
       },
       "report_default": {
        "hidden": false
       }
      }
     }
    }
   },
   "outputs": [],
   "source": [
    "motifText = 'SpCas9,GNNNNNNNNNNNNNNNNNNNNGG,1,20'\n",
    "motifText = motifText + '\\n' + 'Sa23Cas9,GNNNNNNNNNNNNNNNNNNNNNNNNGRRT,1,23'\n",
    "motifText = motifText + '\\n' + 'Sa22Cas9,GNNNNNNNNNNNNNNNNNNNNNNNGRRT,1,22'\n",
    "motifText = motifText + '\\n' + 'Sa21Cas9,GNNNNNNNNNNNNNNNNNNNNNNGRRT,1,21'\n",
    "motifText = motifText + '\\n' + 'AsCpf1,TTTNNNNNNNNNNNNNNNNNNNN,5,19'"
   ]
  },
  {
   "cell_type": "code",
   "execution_count": 7,
   "metadata": {
    "collapsed": true,
    "extensions": {
     "jupyter_dashboards": {
      "version": 1,
      "views": {
       "grid_default": {
        "hidden": true
       },
       "report_default": {
        "hidden": false
       }
      }
     }
    }
   },
   "outputs": [],
   "source": [
    "# funcion to extend ambiguous IUPAC letters. This function generates all possible sequences, \n",
    "# expanding the characters defined by the IUPAC standard, expect 'N' (since that would create a huge overhead)\n",
    "def extend_ambiguous_expectN_dna(seq):\n",
    "    \"\"\"return list of all possible sequences given an ambiguous DNA input\"\"\"\n",
    "    d = Seq.IUPAC.IUPACData.ambiguous_dna_values\n",
    "    d['N'] = 'N' # here we exclude expansion of N\n",
    "    r = []\n",
    "    for i in product(*[d[j] for j in seq]):\n",
    "        r.append(\"\".join(i))\n",
    "    return r "
   ]
  },
  {
   "cell_type": "code",
   "execution_count": 8,
   "metadata": {
    "collapsed": false,
    "extensions": {
     "jupyter_dashboards": {
      "version": 1,
      "views": {
       "grid_default": {
        "hidden": true
       },
       "report_default": {
        "hidden": false
       }
      }
     }
    }
   },
   "outputs": [],
   "source": [
    "# handle Start button click. Get rs positions, get sequences, run the motif match and updates the Results\n",
    "def on_button_clicked(b):\n",
    "    rsList1 = rsBox.value.split('\\n')\n",
    "    print(rsBox.value.split('\\n'))\n",
    "    rsPosDf = getDbSnpPosition(rsList1,str(dbSNPname.value))\n",
    "    res = ''\n",
    "    res2 = ''\n",
    "    res3 = ''\n",
    "    #res = res + 'browser position '+str(chrom.value)+':'+str(chrPos.value) +'-' + str(chrPos.value+len(cleanSequence))+'\\n'\n",
    "    res = res + 'browser hide all\\n'\n",
    "    res = res + 'track name=\"guideRNA\" description=\"Color by strand\" '+ 'visibility=2 colorByStrand=\"255,0,0 0,0,255\"\\n'\n",
    "    # iterate on SNP-s. Chrom,chromStart,chromPos,rsID are given. Get the sequence between [chromStart-window, chromStart+window]\n",
    "    for rs in rsPosDf.iterrows():\n",
    "        chrom = rs[1][0] \n",
    "        offs = int(seqWindow.value)\n",
    "        chromStartInt = int(rs[1][1]) - offs\n",
    "        chromStart = str(chromStartInt)\n",
    "        chromEndInt = int(rs[1][1]) + offs\n",
    "        chromEnd = str(chromEndInt)\n",
    "        rsIdName = rs[1][3] + '_'+ rs[1][4]\n",
    "        rsStart = rs[1][1]\n",
    "        rsEnd = rs[1][2]\n",
    "        genomeVersion = str(dbSNPname.value).split('.')[0]\n",
    "        url = 'http://genome.ucsc.edu/cgi-bin/das/' + genomeVersion \\\n",
    "            + '/dna?segment=' + chrom + ':' + chromStart + ',' \\\n",
    "            + chromEnd\n",
    "        response = requests.get(url)\n",
    "        SeqXml = ET.fromstring(response.text)\n",
    "        SeqText = SeqXml.find('SEQUENCE').find('DNA').text\n",
    "        cleanSequence = re.sub(r\"[^ACTGRYSWKMBDHVN]\", '',SeqText.upper())\n",
    "        #print(rs[1][3],'\\n',sequence)\n",
    "        seqRef = cleanSequence[:]\n",
    "        #seqMut = cleanSequence[:]\n",
    "        if chromEndInt > rsEnd:\n",
    "            # to be sure, that the mutated part does not go longer than the end of the sequence\n",
    "            # otherwise we keep the original sequences\n",
    "            variants = rs[1][4].split('/')\n",
    "            variantSeqs = []\n",
    "            for varis in variants:\n",
    "                variantSeqs.append(seqRef[:offs+1] + varis.lower() + seqRef[offs+1+len(varis):])\n",
    "            #ref = variants[0].lower()\n",
    "            #mut = variants[1].lower()\n",
    "            #seqRef = seqRef[:offs+1] + ref + seqRef[offs+1+len(ref):]\n",
    "            #seqMut = seqMut[:offs+1] + mut + seqMut[offs+1+len(mut):]\n",
    "        \n",
    "        res = res +  chrom + '\\t' + str(rsStart) + '\\t' + \\\n",
    "                        str(rsEnd) + '\\t' + rsIdName + '\\t0\\t+\\n'\n",
    "\n",
    "        rsMotifMatchCount = 0\n",
    "        # we have the sequence, iterate through motifs\n",
    "        for motifLine in motifBox.value.split('\\n'):\n",
    "            motifDesc = motifLine.split(',')\n",
    "            motifName = motifDesc[0]\n",
    "            motif = motifDesc[1]\n",
    "            motifStart = int(motifDesc[2])\n",
    "            motifLen = int(motifDesc[3])\n",
    "            cleanMotif = re.sub(r\"[^ACTGRYSWKMBDHVN]\", '',motif.upper())\n",
    "            cleanMotif_rc = str(Seq.Seq(cleanMotif,Seq.IUPAC.ambiguous_dna).reverse_complement())\n",
    "\n",
    "            # forward\n",
    "            i = 1\n",
    "            for iupacMotif in extend_ambiguous_expectN_dna(cleanMotif):\n",
    "                regexMotif = re.sub(r\"N\", '.',iupacMotif)\n",
    "                #for match in re.finditer(regexMotif, cleanSequence): # finds only non-overlapping matches\n",
    "                for match in re.finditer(r'(?=('+regexMotif+'))', cleanSequence):\n",
    "                    mm = match.group(1)\n",
    "                    # we need only certain part of the matched sequence, defined by outStart and outLength (0 based indexing)\n",
    "                    idx1 = motifStart - 1\n",
    "                    idx2 = idx1 + motifLen\n",
    "                    res = res +  chrom + '\\t' + str(chromStartInt+match.start()+idx1) + '\\t' + \\\n",
    "                        str(chromStartInt+match.start()+idx2-1) + '\\t' + rsIdName + '_' + motifName + '_' + 'gRNA_' + \\\n",
    "                        str(i) + '\\t0\\t+\\n'\n",
    "                    #?seqNoRC = str(mm[idx1:idx2])\n",
    "                    \n",
    "                    seqRef = variantSeqs[0]\n",
    "                    seqMut1 = variantSeqs[1]\n",
    "                    refMotif = seqRef[match.start()+idx1:match.start()+idx2]\n",
    "                    mutMotif1 = seqMut1[match.start()+idx1:match.start()+idx2]\n",
    "                    ref = variants[0].upper()\n",
    "                    res2 = res2 + rsIdName + '\\t' + motifName + '_' + 'gRNA_' + ref +'_'+ str(i) + '\\t' + refMotif + '\\n'\n",
    "                    if refMotif != mutMotif1:\n",
    "                        vv = 1\n",
    "                        for seqMut in variantSeqs[1:]:\n",
    "                            mutMotif = seqMut[match.start()+idx1:match.start()+idx2]\n",
    "                            mut = variants[vv].upper()\n",
    "                            vv = vv + 1\n",
    "                            res2 = res2 + rsIdName \\\n",
    "                            + '\\t' + motifName + '_' + 'gRNA_' + mut +'_'+ str(i) + '\\t' + mutMotif + '\\n'\n",
    "                    # ' ' + cleanSequence + ' ' + seqRef + ' ' + seqMut +\n",
    "                    # '_' + str(mm[idx1:idx2]) +\n",
    "                    #res = res + str(match.start()+idx1+1) +' ' + str(mm[idx1:idx2]) + '+\\n'\n",
    "                    i = i+1\n",
    "                    rsMotifMatchCount = rsMotifMatchCount + 1\n",
    "\n",
    "            # reverse complement\n",
    "            i = 1\n",
    "            for iupacMotif_rc in extend_ambiguous_expectN_dna(cleanMotif_rc):\n",
    "                regexMotif_rc =  re.sub(r\"N\", '.',iupacMotif_rc)\n",
    "                #for match in re.finditer(regexMotif_rc, cleanSequence): # finds only non-overlapping matches\n",
    "                for match in re.finditer(r'(?=('+regexMotif_rc+'))', cleanSequence):\n",
    "                    mm = match.group(1)\n",
    "                    # we need only certain part of the matched sequence, defined by motifStart and motifLen (0 based indexing)\n",
    "                    idx2 = len(regexMotif_rc) - (motifStart - 1)\n",
    "                    idx1 = len(regexMotif_rc) - (motifStart - 1 + motifLen)\n",
    "                    res = res +  chrom + '\\t' + str(chromStartInt+match.start()+idx1) + '\\t' + \\\n",
    "                        str(chromStartInt+match.start()+idx2-1) + '\\t' + rsIdName + '_' + motifName + '_' + 'gRNArc_' + \\\n",
    "                        str(i) + '\\t0\\t-\\n'\n",
    "                    # generate the reverse complement of the sequence\n",
    "                    #?seqNoRC = str(mm[idx1:idx2])\n",
    "                    #?seqRC = str(Seq.Seq(str(mm[idx1:idx2]),Seq.IUPAC.ambiguous_dna).reverse_complement())\n",
    "                    \n",
    "                    seqRef = variantSeqs[0]\n",
    "                    seqMut1 = variantSeqs[1]\n",
    "                    refMotif = seqRef[match.start()+idx1:match.start()+idx2]\n",
    "                    refMotifRC = str(Seq.Seq(refMotif,Seq.IUPAC.ambiguous_dna).reverse_complement())\n",
    "                    mutMotif1 = seqMut1[match.start()+idx1:match.start()+idx2]\n",
    "                    mutMotif1RC = str(Seq.Seq(mutMotif1,Seq.IUPAC.ambiguous_dna).reverse_complement())\n",
    "                    ref = variants[0].upper()\n",
    "                    res2 = res2 + rsIdName + '\\t' + motifName + '_' + 'gRNArc_' + ref +'_'+ str(i) + '\\t' + refMotifRC + '\\n'\n",
    "                    if refMotifRC != mutMotif1RC:\n",
    "                        vv = 1\n",
    "                        for seqMut in variantSeqs[1:]:\n",
    "                            mutMotif = seqMut[match.start()+idx1:match.start()+idx2]\n",
    "                            mutMotifRC = str(Seq.Seq(mutMotif,Seq.IUPAC.ambiguous_dna).reverse_complement())\n",
    "                            mut = variants[vv].upper()\n",
    "                            vv = vv + 1\n",
    "                            res2 = res2 + rsIdName \\\n",
    "                            + '\\t' + motifName + '_' + 'gRNArc_' + mut +'_'+ str(i) + '\\t' + mutMotifRC + '\\n'\n",
    "                    \n",
    "                    #refMotif = seqRef[match.start()+idx1:match.start()+idx2]\n",
    "                    #refMotifRC = str(Seq.Seq(refMotif,Seq.IUPAC.ambiguous_dna).reverse_complement())\n",
    "                    #mutMotif = seqMut[match.start()+idx1:match.start()+idx2]\n",
    "                    #mutMotifRC = str(Seq.Seq(mutMotif,Seq.IUPAC.ambiguous_dna).reverse_complement())\n",
    "                    #res2 = res2 + rsIdName + '\\t' + motifName + '_' + 'gRNArc_' + ref.upper() +'_'+ str(i) + '\\t' + refMotifRC + '\\n'\n",
    "                    #if refMotifRC != mutMotifRC:\n",
    "                    #    res2 = res2 + rsIdName + '\\t' + motifName + '_' + 'gRNArc_' + mut.upper() +'_'+ str(i) + '\\t' + mutMotifRC + '\\n'\n",
    "                    # ' ' + cleanSequence + ' ' + seqRef + ' ' + seqMut +\n",
    "                    # '_' + str(mm[idx1:idx2]) + \n",
    "                    #res = res + str(match.start()+idx1+1) +' ' + str(mm[idx1:idx2]) + '-\\n'\n",
    "                    i = i+1\n",
    "                    rsMotifMatchCount = rsMotifMatchCount + 1\n",
    "        res3 = res3 + rsIdName + '\\t' + str(rsMotifMatchCount) + '\\n'\n",
    "    \n",
    "    resultBox.value = res\n",
    "    resultBox.update_config\n",
    "    tableBox.value = res2\n",
    "    tableBox.update_config\n",
    "    countBox.value = res3\n",
    "    countBox.update_config"
   ]
  },
  {
   "cell_type": "code",
   "execution_count": 9,
   "metadata": {
    "collapsed": false,
    "extensions": {
     "jupyter_dashboards": {
      "version": 1,
      "views": {
       "grid_default": {
        "col": 0,
        "height": 90,
        "hidden": false,
        "row": 13,
        "width": 10
       },
       "report_default": {
        "hidden": false
       }
      }
     }
    }
   },
   "outputs": [
    {
     "name": "stdout",
     "output_type": "stream",
     "text": [
      "['rs339331', 'rs1109815', 'rs877343', 'rs2474694', 'rs9967549', 'rs2427530', 'rs2427531', 'rs78416326', 'rs339297', 'rs111770284', 'rs1442744', 'rs551721127', 'rs10123735', 'rs11168962', 'rs2474694', 'rs11672691', 'rs887391', 'rs4845688', 'rs1109815', 'rs877343', 'rs4845695', 'rs705094', 'rs75711918', 'rs1534642', 'rs7591175', 'rs6719046', 'rs386648104', 'rs386648104', 'rs6733913']\n"
     ]
    }
   ],
   "source": [
    "# ------------\n",
    "\n",
    "tBox_layout = Layout(height='400px',width='800px')\n",
    "smallBox_layout = Layout(width='200px')\n",
    "\n",
    "rsIdText = \"\"\n",
    "for id in rsList:\n",
    "    rsIdText += id + '\\n'\n",
    "rsIdText = rsIdText[:-1]\n",
    "dbSNPname = widgets.Text(description='dbSNP version:', value='hg38.snp142',layout=smallBox_layout, margin=8)\n",
    "rsBox = widgets.Textarea(description='', value=rsIdText, layout=tBox_layout)\n",
    "pageRS = widgets.Box(children=[widgets.HBox(children=[dbSNPname]),widgets.HBox(children=[rsBox])])\n",
    "accord1 = widgets.Accordion(children=[pageRS])\n",
    "accord1.set_title(0, 'dbSNP rs numbers')\n",
    "# ------------\n",
    "\n",
    "# ------------\n",
    "#seqWindow = widgets.BoundedIntText(description='+/- window :', min=1, max=999999, value=25,width='100px', margin=8)\n",
    "seqWindow = widgets.Text(description='+/- window around SNP:', value='25',layout=smallBox_layout, margin=8)\n",
    "motifBox = widgets.Textarea(description='', value=motifText, layout=tBox_layout)\n",
    "pageMotif = widgets.Box(children=[widgets.HBox(children=[seqWindow]),widgets.HBox(children=[motifBox])])\n",
    "accord2 = widgets.Accordion(children=[pageMotif])\n",
    "accord2.set_title(0, 'MotifID,motif,start,length')\n",
    "# ------------\n",
    "\n",
    "# ------------\n",
    "startButton = widgets.Button(description='Start', \n",
    "                             width='200px',height='40px', border_width=10, border_radius = 15, margin=10)\n",
    "startButton.on_click(on_button_clicked) \n",
    "#startButton._dom_classes=('blueButton',)\n",
    "#startButton.background_color = \"cornflowerblue\"\n",
    "startButton.button_style = 'Primary'\n",
    "#startButton.font_weight = 'bold'\n",
    "#startButton.font_size = '14pt'\n",
    "# ------------\n",
    "\n",
    "resultBox = widgets.Textarea(description='', layout=tBox_layout)\n",
    "accord3 = widgets.Accordion(children=[resultBox], width=400)\n",
    "accord3.set_title(0, 'BED output')\n",
    "\n",
    "tableBox = widgets.Textarea(description='', layout=tBox_layout)\n",
    "accord4 = widgets.Accordion(children=[tableBox], width=400)\n",
    "accord4.set_title(0, 'Tabular output')\n",
    "\n",
    "countBox = widgets.Textarea(description='', layout=tBox_layout)\n",
    "accord5 = widgets.Accordion(children=[countBox], width=400)\n",
    "accord5.set_title(0, 'Counts')\n",
    "\n",
    "display(accord1,accord2,startButton,accord3,accord4,accord5)"
   ]
  },
  {
   "cell_type": "markdown",
   "metadata": {
    "extensions": {
     "jupyter_dashboards": {
      "version": 1,
      "views": {
       "grid_default": {
        "col": 0,
        "height": 10,
        "hidden": false,
        "row": 3,
        "width": 10
       },
       "report_default": {
        "hidden": false
       }
      }
     }
    }
   },
   "source": [
    "This tool takes a genetic _Sequence_ and looks for patterns which match the given _Motif_. In the motif 'N' character matches any letter in the sequence. User can truncate the displayed matching sequences by setting the _From_ and _Length_ fields.   \n",
    "After pressing the _Start_ button, on the output the truncated matcing sequences, and their positions are listed.  \n",
    "\n",
    "- IUPAC characters, other than ACGT are handled in Motif, but not in Sequence\n",
    "- all lower case characters in the sequence are converted to upper case\n",
    "- all characters except 'A','C','G','T' (including whitespaces and linebreake) will be removed from Sequence\n",
    "- all characters except 'A','C','G','T' and IUPAC characters: RYSWKMBDHV, and 'N' - which matches any base will be removed from Motif\n",
    "- !!! output BED files use 0-based indexing!!! See: https://genome.ucsc.edu/FAQ/FAQformat.html#format1\n",
    "- in the 'Tabular' output, - strand sequences are reverse complemented\n",
    "- additionally, there are 'reference' and 'mutant' sequences. The mutant position(s) are in lower  case (both for ref and mut)\n",
    "- if the mutant section is outside of the cutout, than the original sequence is written out, to keep the column structure (no lowercase letters)\n"
   ]
  },
  {
   "cell_type": "markdown",
   "metadata": {},
   "source": [
    "---\n",
    "# NEW"
   ]
  },
  {
   "cell_type": "code",
   "execution_count": 124,
   "metadata": {
    "collapsed": false
   },
   "outputs": [
    {
     "name": "stdout",
     "output_type": "stream",
     "text": [
      "select * from hg38.knownGene WHERE chrom='chr1' AND txStart BETWEEN 153936791 AND 154936791 ORDER BY 154936791-txStart LIMIT 3\n"
     ]
    }
   ],
   "source": [
    "query = \"select * from \" + genomeVersion + \".knownGene\" + \" WHERE chrom='\"+ str(pos['chrom']) + \"' AND txStart BETWEEN \" + fromPos + \" AND \" + chromPosStr  +\" ORDER BY \" + chromPosStr + \"-txStart LIMIT \" + nGenes\n",
    "print (query)"
   ]
  },
  {
   "cell_type": "code",
   "execution_count": 125,
   "metadata": {
    "collapsed": false
   },
   "outputs": [
    {
     "name": "stdout",
     "output_type": "stream",
     "text": [
      "select * from hg38.knownGene WHERE chrom='chr1' AND txStart BETWEEN 153936791 AND 154936791 ORDER BY 154936791-txStart LIMIT 3\n"
     ]
    }
   ],
   "source": [
    "query = \"select * from \" + genomeVersion + \".knownGene\" + \" WHERE chrom='\"+ str(pos['chrom']) + \"' AND txStart BETWEEN \" + fromPos + \" AND \" + chromPosStr  +\" ORDER BY \" + chromPosStr + \"-txStart LIMIT \" + nGenes\n",
    "print(query)"
   ]
  },
  {
   "cell_type": "code",
   "execution_count": 147,
   "metadata": {
    "collapsed": false
   },
   "outputs": [],
   "source": [
    "# given a list of dbSNP positions from result of the getDbSnpPosition() function, \n",
    "# returns the coordinates of the first exons of the first three downstream an upstream genes \n",
    "def getNearbyGenes(positions,genomeVersion, maxRange, nGenes, seqLen):\n",
    "    results = []\n",
    "    engine = create_engine(\"mysql+pymysql://genome@genome-mysql.cse.ucsc.edu\")\n",
    "\n",
    "    \n",
    "    for idx,pos in positions.iterrows():\n",
    "        fromPos = str(max(pos['chromStart']-maxRange,0))\n",
    "        toPos = str(pos['chromStart']+maxRange)\n",
    "        chromPosStr = str(pos['chromStart'])\n",
    "        \n",
    "        query = \"select * from \" + genomeVersion + \".refGene\" + \" WHERE chrom='\"+ \\\n",
    "            str(pos['chrom']) + \"' AND cdsEnd BETWEEN \" + fromPos + \" AND \" + chromPosStr  +\\\n",
    "            \" ORDER BY \" + chromPosStr + \"-cdsEnd LIMIT \" + nGenes\n",
    "        downstream = pd.read_sql_query(query, engine)\n",
    "        \n",
    "        query = \"select * from \" + genomeVersion + \".refGene\" + \" WHERE chrom='\"+ \\\n",
    "            str(pos['chrom']) + \"' AND cdsStart BETWEEN \" + chromPosStr + \" AND \" + toPos  +\\\n",
    "            \" ORDER BY cdsStart-\" + chromPosStr + \" LIMIT \" + nGenes\n",
    "        upstream = pd.read_sql_query(query, engine)\n",
    "        \n",
    "        i = 0\n",
    "        for gene in downstream.itertuples():\n",
    "            cdsStart = gene.cdsStart\n",
    "            cdsEnd = gene.cdsEnd\n",
    "            pos1 = pos.copy()\n",
    "            pos1['direction'] = -1\n",
    "            pos1['geneIndex'] = i\n",
    "            pos1['geneID'] = gene.name\n",
    "            pos1['geneName'] = gene.name2\n",
    "            pos1['strand'] = gene.strand\n",
    "            if gene.strand == '+':\n",
    "                pos1['posStart'] = cdsStart\n",
    "                pos1['posEnd'] = cdsStart + seqLen\n",
    "            else:\n",
    "                pos1['posStart'] = cdsEnd - seqLen\n",
    "                pos1['posEnd'] = cdsEnd\n",
    "            results.append(pos1)\n",
    "            i = i + 1\n",
    "            \n",
    "        i = 0\n",
    "        for gene in upstream.itertuples():\n",
    "            cdsStart = gene.cdsStart\n",
    "            cdsEnd = gene.cdsEnd\n",
    "            pos1 = pos.copy()\n",
    "            pos1['direction'] = 1\n",
    "            pos1['geneIndex'] = i\n",
    "            pos1['geneID'] = gene.name\n",
    "            pos1['geneName'] = gene.name2\n",
    "            pos1['strand'] = gene.strand\n",
    "            if gene.strand == '+':\n",
    "                pos1['posStart'] = cdsStart\n",
    "                pos1['posEnd'] = cdsStart + seqLen\n",
    "            else:\n",
    "                pos1['posStart'] = cdsEnd - seqLen\n",
    "                pos1['posEnd'] = cdsEnd\n",
    "            results.append(pos1)\n",
    "            i = i + 1\n",
    "\n",
    "    return results\n"
   ]
  },
  {
   "cell_type": "code",
   "execution_count": 11,
   "metadata": {
    "collapsed": false,
    "scrolled": true
   },
   "outputs": [
    {
     "data": {
      "text/plain": [
       "'hg38.snp142'"
      ]
     },
     "execution_count": 11,
     "metadata": {},
     "output_type": "execute_result"
    }
   ],
   "source": [
    "str(dbSNPname.value)"
   ]
  },
  {
   "cell_type": "code",
   "execution_count": 148,
   "metadata": {
    "collapsed": false
   },
   "outputs": [],
   "source": [
    "#rsList0 = ['rs339331','rs1109815']\n",
    "positions = getDbSnpPosition(rsList,'hg38.snp142')\n",
    "maxRange = 1000000 # maximum +/- range to search\n",
    "nGenes = '3' # number of upstream and downstream genes to return\n",
    "seqLen = 200 # length of the sequence from the cdsStart used to look for gRNA matches\n",
    "xxx1 = getNearbyGenes(positions,'hg38',maxRange,nGenes,seqLen)"
   ]
  },
  {
   "cell_type": "code",
   "execution_count": 149,
   "metadata": {
    "collapsed": false
   },
   "outputs": [
    {
     "data": {
      "text/html": [
       "<div>\n",
       "<table border=\"1\" class=\"dataframe\">\n",
       "  <thead>\n",
       "    <tr style=\"text-align: right;\">\n",
       "      <th></th>\n",
       "      <th>chrom</th>\n",
       "      <th>chromStart</th>\n",
       "      <th>chromEnd</th>\n",
       "      <th>name</th>\n",
       "      <th>observed</th>\n",
       "      <th>direction</th>\n",
       "      <th>geneIndex</th>\n",
       "      <th>geneID</th>\n",
       "      <th>geneName</th>\n",
       "      <th>strand</th>\n",
       "      <th>posStart</th>\n",
       "      <th>posEnd</th>\n",
       "    </tr>\n",
       "  </thead>\n",
       "  <tbody>\n",
       "    <tr>\n",
       "      <th>0</th>\n",
       "      <td>chr9</td>\n",
       "      <td>107384958</td>\n",
       "      <td>107384959</td>\n",
       "      <td>rs10123735</td>\n",
       "      <td>A/G</td>\n",
       "      <td>-1</td>\n",
       "      <td>0</td>\n",
       "      <td>NM_002874</td>\n",
       "      <td>RAD23B</td>\n",
       "      <td>+</td>\n",
       "      <td>107283629</td>\n",
       "      <td>107283829</td>\n",
       "    </tr>\n",
       "    <tr>\n",
       "      <th>0</th>\n",
       "      <td>chr9</td>\n",
       "      <td>107384958</td>\n",
       "      <td>107384959</td>\n",
       "      <td>rs10123735</td>\n",
       "      <td>A/G</td>\n",
       "      <td>-1</td>\n",
       "      <td>1</td>\n",
       "      <td>NM_001244724</td>\n",
       "      <td>RAD23B</td>\n",
       "      <td>+</td>\n",
       "      <td>107302102</td>\n",
       "      <td>107302302</td>\n",
       "    </tr>\n",
       "    <tr>\n",
       "      <th>0</th>\n",
       "      <td>chr9</td>\n",
       "      <td>107384958</td>\n",
       "      <td>107384959</td>\n",
       "      <td>rs10123735</td>\n",
       "      <td>A/G</td>\n",
       "      <td>-1</td>\n",
       "      <td>2</td>\n",
       "      <td>NM_001244713</td>\n",
       "      <td>RAD23B</td>\n",
       "      <td>+</td>\n",
       "      <td>107284910</td>\n",
       "      <td>107285110</td>\n",
       "    </tr>\n",
       "    <tr>\n",
       "      <th>0</th>\n",
       "      <td>chr9</td>\n",
       "      <td>107384958</td>\n",
       "      <td>107384959</td>\n",
       "      <td>rs10123735</td>\n",
       "      <td>A/G</td>\n",
       "      <td>1</td>\n",
       "      <td>0</td>\n",
       "      <td>NR_121581</td>\n",
       "      <td>LINC01509</td>\n",
       "      <td>-</td>\n",
       "      <td>107466385</td>\n",
       "      <td>107466585</td>\n",
       "    </tr>\n",
       "    <tr>\n",
       "      <th>0</th>\n",
       "      <td>chr9</td>\n",
       "      <td>107384958</td>\n",
       "      <td>107384959</td>\n",
       "      <td>rs10123735</td>\n",
       "      <td>A/G</td>\n",
       "      <td>1</td>\n",
       "      <td>1</td>\n",
       "      <td>NM_001314052</td>\n",
       "      <td>KLF4</td>\n",
       "      <td>-</td>\n",
       "      <td>107488972</td>\n",
       "      <td>107489172</td>\n",
       "    </tr>\n",
       "    <tr>\n",
       "      <th>0</th>\n",
       "      <td>chr9</td>\n",
       "      <td>107384958</td>\n",
       "      <td>107384959</td>\n",
       "      <td>rs10123735</td>\n",
       "      <td>A/G</td>\n",
       "      <td>1</td>\n",
       "      <td>2</td>\n",
       "      <td>NM_004235</td>\n",
       "      <td>KLF4</td>\n",
       "      <td>-</td>\n",
       "      <td>107488972</td>\n",
       "      <td>107489172</td>\n",
       "    </tr>\n",
       "    <tr>\n",
       "      <th>1</th>\n",
       "      <td>chr1</td>\n",
       "      <td>154936791</td>\n",
       "      <td>154936792</td>\n",
       "      <td>rs1109815</td>\n",
       "      <td>A/G</td>\n",
       "      <td>-1</td>\n",
       "      <td>0</td>\n",
       "      <td>NM_006556</td>\n",
       "      <td>PMVK</td>\n",
       "      <td>-</td>\n",
       "      <td>154936485</td>\n",
       "      <td>154936685</td>\n",
       "    </tr>\n",
       "  </tbody>\n",
       "</table>\n",
       "</div>"
      ],
      "text/plain": [
       "  chrom  chromStart   chromEnd        name observed  direction  geneIndex  \\\n",
       "0  chr9   107384958  107384959  rs10123735      A/G         -1          0   \n",
       "0  chr9   107384958  107384959  rs10123735      A/G         -1          1   \n",
       "0  chr9   107384958  107384959  rs10123735      A/G         -1          2   \n",
       "0  chr9   107384958  107384959  rs10123735      A/G          1          0   \n",
       "0  chr9   107384958  107384959  rs10123735      A/G          1          1   \n",
       "0  chr9   107384958  107384959  rs10123735      A/G          1          2   \n",
       "1  chr1   154936791  154936792   rs1109815      A/G         -1          0   \n",
       "\n",
       "         geneID   geneName strand   posStart     posEnd  \n",
       "0     NM_002874     RAD23B      +  107283629  107283829  \n",
       "0  NM_001244724     RAD23B      +  107302102  107302302  \n",
       "0  NM_001244713     RAD23B      +  107284910  107285110  \n",
       "0     NR_121581  LINC01509      -  107466385  107466585  \n",
       "0  NM_001314052       KLF4      -  107488972  107489172  \n",
       "0     NM_004235       KLF4      -  107488972  107489172  \n",
       "1     NM_006556       PMVK      -  154936485  154936685  "
      ]
     },
     "execution_count": 149,
     "metadata": {},
     "output_type": "execute_result"
    }
   ],
   "source": [
    "pd.DataFrame(xxx1).head(7)"
   ]
  },
  {
   "cell_type": "code",
   "execution_count": 145,
   "metadata": {
    "collapsed": true
   },
   "outputs": [],
   "source": [
    "pd.DataFrame(xxx1)[['chrom','posStart','posEnd','chromStart']].to_csv('test.csv',sep=' ',index=False)"
   ]
  },
  {
   "cell_type": "code",
   "execution_count": 152,
   "metadata": {
    "collapsed": true
   },
   "outputs": [],
   "source": [
    "pd.DataFrame(xxx1).to_csv('test.csv',index=False)"
   ]
  },
  {
   "cell_type": "code",
   "execution_count": 153,
   "metadata": {
    "collapsed": false,
    "scrolled": true
   },
   "outputs": [
    {
     "name": "stdout",
     "output_type": "stream",
     "text": [
      "chrom,chromStart,chromEnd,name,observed,direction,geneIndex,geneID,geneName,strand,posStart,posEnd\n",
      "chr9,107384958,107384959,rs10123735,A/G,-1,0,NM_002874,RAD23B,+,107283629,107283829\n",
      "chr9,107384958,107384959,rs10123735,A/G,-1,1,NM_001244724,RAD23B,+,107302102,107302302\n",
      "chr9,107384958,107384959,rs10123735,A/G,-1,2,NM_001244713,RAD23B,+,107284910,107285110\n",
      "chr9,107384958,107384959,rs10123735,A/G,1,0,NR_121581,LINC01509,-,107466385,107466585\n",
      "chr9,107384958,107384959,rs10123735,A/G,1,1,NM_001314052,KLF4,-,107488972,107489172\n",
      "chr9,107384958,107384959,rs10123735,A/G,1,2,NM_004235,KLF4,-,107488972,107489172\n",
      "chr1,154936791,154936792,rs1109815,A/G,-1,0,NM_006556,PMVK,-,154936485,154936685\n",
      "chr1,154936791,154936792,rs1109815,A/G,-1,1,NM_001323011,PMVK,-,154936247,154936447\n",
      "chr1,154936791,154936792,rs1109815,A/G,-1,2,NM_001323012,PMVK,-,154928910,154929110\n"
     ]
    }
   ],
   "source": [
    "%%bash\n",
    "head test.csv"
   ]
  },
  {
   "cell_type": "markdown",
   "metadata": {},
   "source": [
    "# XXXXXXXXXXXXXXXXXXXXXXXXXXXX - JUNK - XXXXXXXXXXXXXXXXXXX"
   ]
  },
  {
   "cell_type": "code",
   "execution_count": 96,
   "metadata": {
    "collapsed": false
   },
   "outputs": [],
   "source": [
    "# given a list of dbSNP positions from result of the getDbSnpPosition() function, \n",
    "# returns the coordinates of the first exons of the first three downstream an upstream genes \n",
    "def getNearbyGenes(positions,genomeVersion):\n",
    "    results = []\n",
    "    engine = create_engine(\"mysql+pymysql://genome@genome-mysql.cse.ucsc.edu\")\n",
    "    maxRange = 1000000 # maximum +/- range to search\n",
    "    nGenes = '3' # number of upstream and downstream genes to return\n",
    "    \n",
    "    for idx,pos in positions.iterrows():\n",
    "        fromPos = str(max(pos['chromStart']-maxRange,0))\n",
    "        toPos = str(pos['chromStart']+maxRange)\n",
    "        chromPosStr = str(pos['chromStart'])    \n",
    "        query = \"select * from \" + genomeVersion + \".knownGene\" pd.DataFrame(xxx1)+ \" WHERE chrom='\"+ str(pos['chrom']) + \"' AND txStart BETWEEN \" + fromPos + \" AND \" + chromPosStr  +\" ORDER BY \" + chromPosStr + \"-txStart LIMIT \" + nGenes\n",
    "        downstream = pd.read_sql_query(query, engine)\n",
    "        query = \"select * from \" + genomeVersion + \".knownGene\" + \" WHERE chrom='\"+ str(pos['chrom']) + \"' AND txStart BETWEEN \" + fromPos + \" AND \" + chromPosStr  +\" ORDER BY \" + chromPosStr + \"-txStart LIMIT \" + nGenes\n",
    "        upstream = pd.read_sql_query(query, engine)\n",
    "        \n",
    "        i = 0\n",
    "        for gene in downstream.itertuples():\n",
    "            exonStart = gene.exonStarts.decode('UTF-8').split(sep=',')[gene.exonCount-1]\n",
    "            exonEnd = gene.exonEnds.decode('UTF-8').split(sep=',')[gene.exonCount-1]\n",
    "            pos1 = pos.copy()\n",
    "            pos1['direction'] = -1\n",
    "            pos1['geneIndex'] = i\n",
    "            pos1['geneID'] = gene.name\n",
    "            pos1['strand'] = gene.strand\n",
    "            pos1['exonStart'] = exonStart\n",
    "            pos1['exonEnd'] = exonEnd\n",
    "            results.append(pos1)\n",
    "            i = i + 1\n",
    "            \n",
    "        i = 0\n",
    "        for gene in upstream.itertuples():\n",
    "            exonStart = gene.exonStarts.decode('UTF-8').split(sep=',')[0]\n",
    "            exonEnd = gene.exonEnds.decode('UTF-8').split(sep=',')[0]\n",
    "            exonStart = gene.exonStarts.decode('UTF-8').split(sep=',')[gene.exonCount-1]\n",
    "            exonEnd = gene.exonEnds.decode('UTF-8').split(sep=',')[gene.exonCount-1]\n",
    "            pos1 = pos.copy()\n",
    "            pos1['direction'] = 1\n",
    "            pos1['geneIndex'] = i\n",
    "            pos1['geneID'] = gene.name\n",
    "            pos1['strand'] = gene.strand\n",
    "            pos1['exonStart'] = exonStart\n",
    "            pos1['exonEnd'] = exonEnd\n",
    "            results.append(pos1)\n",
    "            i = i + 1\n",
    "\n",
    "    return results\n"
   ]
  },
  {
   "cell_type": "code",
   "execution_count": null,
   "metadata": {
    "collapsed": true
   },
   "outputs": [],
   "source": []
  }
 ],
 "metadata": {
  "extensions": {
   "jupyter_dashboards": {
    "activeView": "grid_default",
    "version": 1,
    "views": {
     "grid_default": {
      "cellMargin": 10,
      "defaultCellHeight": 20,
      "layoutStrategy": "packed",
      "maxColumns": 12,
      "name": "grid",
      "type": "grid"
     },
     "report_default": {
      "name": "report",
      "type": "report"
     }
    }
   }
  },
  "hide_input": false,
  "kernelspec": {
   "display_name": "Python 3",
   "language": "python",
   "name": "python3"
  },
  "language_info": {
   "codemirror_mode": {
    "name": "ipython",
    "version": 3
   },
   "file_extension": ".py",
   "mimetype": "text/x-python",
   "name": "python",
   "nbconvert_exporter": "python",
   "pygments_lexer": "ipython3",
   "version": "3.4.2"
  },
  "latex_envs": {
   "bibliofile": "biblio.bib",
   "cite_by": "apalike",
   "current_citInitial": 1,
   "eqLabelWithNumbers": true,
   "eqNumInitial": 0
  },
  "widgets": {
   "state": {
    "0a273e52424c434583413bcd6615c98a": {
     "views": [
      {
       "cell_index": 9
      }
     ]
    },
    "2d85cc13555140c5a80610544a73483d": {
     "views": [
      {
       "cell_index": 9
      }
     ]
    },
    "4ab4ccf3f7274b2bb036fbece64185bf": {
     "views": [
      {
       "cell_index": 9
      }
     ]
    },
    "7bf80131b64a480398c7fccdd4251205": {
     "views": [
      {
       "cell_index": 9
      }
     ]
    },
    "f384b164c496406287661a3e275f737a": {
     "views": [
      {
       "cell_index": 9
      }
     ]
    },
    "f57acef7f31e48eeb96849bb3deb6e5d": {
     "views": [
      {
       "cell_index": 9
      }
     ]
    }
   },
   "version": "1.2.0"
  }
 },
 "nbformat": 4,
 "nbformat_minor": 0
}
