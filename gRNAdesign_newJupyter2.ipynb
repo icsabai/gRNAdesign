{
 "cells": [
  {
   "cell_type": "markdown",
   "metadata": {
    "extensions": {
     "jupyter_dashboards": {
      "version": 1,
      "views": {
       "grid_default": {
        "col": 0,
        "height": 3,
        "hidden": false,
        "row": 0,
        "width": 10
       },
       "report_default": {
        "hidden": false
       }
      }
     }
    }
   },
   "source": [
    "# Guide RNA design  "
   ]
  },
  {
   "cell_type": "code",
   "execution_count": 1,
   "metadata": {
    "collapsed": true,
    "extensions": {
     "jupyter_dashboards": {
      "version": 1,
      "views": {
       "grid_default": {
        "hidden": true
       },
       "report_default": {
        "hidden": false
       }
      }
     }
    }
   },
   "outputs": [],
   "source": [
    "from Bio import Seq\n",
    "import re\n",
    "from itertools import product \n",
    "from ipywidgets import *  \n",
    "from IPython.display import display"
   ]
  },
  {
   "cell_type": "code",
   "execution_count": 2,
   "metadata": {
    "ExecuteTime": {
     "end_time": "2016-02-24T12:01:53.395116",
     "start_time": "2016-02-24T12:01:53.144761"
    },
    "collapsed": true,
    "extensions": {
     "jupyter_dashboards": {
      "version": 1,
      "views": {
       "grid_default": {
        "hidden": true
       },
       "report_default": {
        "hidden": false
       }
      }
     }
    }
   },
   "outputs": [],
   "source": [
    "exampleSequence = \"TGAGAGAAGAGTTTCATATTTGCAAGGTCTCAGACATGCCTTTAAAATTTCATAATACTTCTTCTTGTGTTTCCCATGCTTGATGGGGCTCAGAATTGACAGTGTACATTTTCAGTAATACAGAGATGAGAAGGGTCAGAGAGGAAGTAAAGTGGCTAGGACTGGCTATGTAAATTGCCAAGGGGTGCAGTTCAAATGAAAATGTGAGACCTCTAATATAAAATTTCATGATGGGGATAATGGATCATGAAACTAATCGTGGGGCTTTGTGCGACACCACGGGACACTTGCCTACAAAGCCATCCCTACTCCCTGCTTAAACGGAGACAAGAACACATTGGTGATTCTCAAATGCAAACTGTCCCTTTACTGAAAACCTAATGAGTTTAATGCTTACTATACTGTAGTCCCTTATGTGCTGATTACATTGTGGAATGCTGCAGGGAGAAAAACAAATTCACCTAATGATGCTAAAGAACCATTAGGAGACTTTACTAGTTTAGGTCACAAGTGCCTAGAAATACAGAAATGATCTTTGACCTTTCCTCCATTTTTCAAAAGGACGCTATTTCTGTGAACCTCATTGACCTCTCCAGACAAAGTCCCAGATTGCCTTTGCCAAAGTTAACAACCCATCTTGGCTTCTTGCCATTTCTCATGTATTCACTAGATCAGTGCATGACTGCTGCTCTCAACCCACATCATGGGGCCAGAGCCTTCACTGGTTAATATTTATAAAAAAATACTTTGAAGATTAAATCCTTGGTCAGTAGAGAAAACACTAGACATGGATAGAACAAGAAATTGTGGGGTCTGGGCCTCCTCCCAGAACTGCCACCACCAGACAATGTTATCTTTGACAGATTTGTGGTATCTGGGTGGCTGTACTTTTCTTTTGGTGAAATAGCAAAAGCCAAAAAAAGAGACTGTAACATCTGATGGGATTTTGCCCAGCTCCAGTACTGAATTCCTGGGTTGCCTTAGAGGAAAGGTATTGACTGTTTCATCTCTTTGGCCCTCAGTATACTCCCCCAACCCAAATCCACCCCTCCGTCATACACACATCTTACTCTGGAAATGATTCTTAGCAGGAAAACATACTATTATGAGGAACATACTTAGCAGTGCTCTCATAACCCTGCCAAGGGCTGGCATTTTGATTTTGTTTGCACACAGAAACCTGTTTGACTGAAATCTGGAAAAAAAAAAAAAAAAAAAAGAAAAACCAGACACGGGAGAAAAATAAAAATCACAGTAGTTTTATACATACATTTGATTTCTAAGGCCAGATAACTGATTTTGTTACCATTTTCTATCCTGTTATTCTGGTGCTGCGAATGCACTAGCTAGAAGTAAAAGTTGTGGGGAAAGGAAGAAGTTGGTTCTGAGTTTATTTTCCCCAGGGTTTCTGAGGGAGTTCCACCCTCTCCCCTGAAAGGGAGTTGGGGCAAATCTATGTTTCTAATTCCACATCAAGTGTAACTATAGCCTGTTCAGAATATTCCTCTTTGAAACAGCACTTTGAGAACAGGGAGCTGCAGCAGTGCAAGACAGCTTGTGGTTGGCTTGGGACTTTAGCCTCAACCCAAATTTGGAACTGGGAACATCTCCAGTCAGCTCTATGGCTAGTCTCACCTTCCTGATCAGCCACTTGGGCGGGCTGTAAGCCTGGCTAAACCAGGTCACCTCAACATTTGTGTCAGGGCAAAGAGTGGAGGAGAGAAGGTGTTTCTTCAACTCCTGGCTTTTAGCTGTGCCTGGATGCCTGCATACTGTTAAAATTCAGCTGCCAGCCTTATCTTATCCGTAATCAGTTGAATTTATTACAATAATCTGATTTTAGAAGCCCCTGAGGCATGGCTTGAGGTCCTATATTGACTTAGGCCCTTGGCTCTGAGGCATTAGAGTCCTGAATTGACTTTAAAGAGGCATAGAAACATAGATGTCTACCAAAGGCTTCAAACTGGCCAACTCTCAGTCTATTTCAACATGCCCTACTGAGCCAATCACTCTGTGCCAAGCCAGTACTAAGAACTGGGGGGACAAAGTGGACTGAGTCTACTCCCTGCTCTTCAGAAGCTCAAAGGCTGTTTATGAAACCAGAGAAGTAAATATATGCTTTCAATATAATGTGATTAATTATAGGCTAGAAATGAGATTGAATGCCTTGAAAGCACTGAGGGTGAGGATCCAACACAACCTAGGGGCATCGGGGAAGACTTCCTGTAAAAGGGATCGCCAGGTAGGGTTGAAAGTAGTTGGGGGGAAACAGTGAGAAATAAATGCCAAAGAAGAAGCAGAAAAAGCAAAGGCAAGGAGGTCTCTTACAGCACTCTATGCTCAGGAAATTATAATGAGTCAGGATAAGTAAACCT\""
   ]
  },
  {
   "cell_type": "code",
   "execution_count": 3,
   "metadata": {
    "collapsed": true,
    "extensions": {
     "jupyter_dashboards": {
      "version": 1,
      "views": {
       "grid_default": {
        "hidden": true
       },
       "report_default": {
        "hidden": false
       }
      }
     }
    }
   },
   "outputs": [],
   "source": [
    "# funcion to extend ambiguous IUPAC letters. This function generates all possible sequences, \n",
    "# expanding the characters defined by the IUPAC standard, expect 'N' (since that would create a huge overhead)\n",
    "def extend_ambiguous_expectN_dna(seq):\n",
    "    \"\"\"return list of all possible sequences given an ambiguous DNA input\"\"\"\n",
    "    d = Seq.IUPAC.IUPACData.ambiguous_dna_values\n",
    "    d['N'] = 'N' # here we exclude expansion of N\n",
    "    r = []\n",
    "    for i in product(*[d[j] for j in seq]):\n",
    "        r.append(\"\".join(i))\n",
    "    return r "
   ]
  },
  {
   "cell_type": "code",
   "execution_count": 4,
   "metadata": {
    "ExecuteTime": {
     "end_time": "2016-02-24T12:16:20.663733",
     "start_time": "2016-02-24T12:16:20.652041"
    },
    "collapsed": false,
    "extensions": {
     "jupyter_dashboards": {
      "version": 1,
      "views": {
       "grid_default": {
        "hidden": true
       },
       "report_default": {
        "hidden": false
       }
      }
     }
    }
   },
   "outputs": [],
   "source": [
    "def on_button_clicked(b):\n",
    "    # the IUPAC letters are allowed, but not matched in Sequence\n",
    "    cleanSequence = re.sub(r\"[^ACTGRYSWKMBDHV]\", '',sequence.value.upper())\n",
    "    res = ''\n",
    "    res = res + 'browser position '+str(chrom.value)+':'+str(chrPos.value) +'-' + str(chrPos.value+len(cleanSequence))+'\\n'\n",
    "    #res = res + 'browser hide all\\n'\n",
    "    res = res + 'track name=\"ColorByStrandDemo\" description=\"Color by strand demonstration\" '+ 'visibility=2 colorByStrand=\"255,0,0 0,0,255\"\\n'\n",
    "\n",
    "    rsMotifMatchCount = 0\n",
    "    # we have the sequence, iterate through motifs\n",
    "    for motifLine in motifBox.value.split('\\n'):\n",
    "        motifDesc = motifLine.split(',')\n",
    "        motifName = motifDesc[0]\n",
    "        motif = motifDesc[1]\n",
    "        motifStart = int(motifDesc[2])\n",
    "        motifLen = int(motifDesc[3])\n",
    "        cleanMotif = re.sub(r\"[^ACTGRYSWKMBDHVN]\", '',motif.upper())\n",
    "        cleanMotif_rc = str(Seq.Seq(cleanMotif,Seq.IUPAC.ambiguous_dna).reverse_complement())\n",
    "        # forward\n",
    "        i = 1\n",
    "        for iupacMotif in extend_ambiguous_expectN_dna(cleanMotif):\n",
    "            regexMotif = re.sub(r\"N\", '.',iupacMotif)\n",
    "            #for match in re.finditer(regexMotif, cleanSequence): # finds only non-overlapping matches\n",
    "            for match in re.finditer(r'(?=('+regexMotif+'))', cleanSequence):\n",
    "                mm = match.group(1)\n",
    "                # we need only certain part of the matched sequence, defined by outStart and outLength (0 based indexing)\n",
    "                idx1 = motifStart - 1\n",
    "                idx2 = idx1 + motifLen\n",
    "                #print(match.start()+idx1,mm[idx1:idx2], mm)\n",
    "                res = res +   chrom.value + '\\t' + str(chrPos.value+match.start()+idx1) + \\\n",
    "                            '\\t' + str(chrPos.value+match.start()+idx2-1) + \\\n",
    "                            '\\t' + motifName + '_' + 'gRNA_' +'_'+ str(i) + '_' + str(mm[idx1:idx2]) + '\\t0\\t+\\n'\n",
    "                i = i+1\n",
    "\n",
    "        # reverse complement\n",
    "        i = 1\n",
    "        for iupacMotif_rc in extend_ambiguous_expectN_dna(cleanMotif_rc):\n",
    "            regexMotif_rc =  re.sub(r\"N\", '.',iupacMotif_rc)\n",
    "            #for match in re.finditer(regexMotif_rc, cleanSequence): # finds only non-overlapping matches\n",
    "            for match in re.finditer(r'(?=('+regexMotif_rc+'))', cleanSequence):\n",
    "                mm = match.group(1)\n",
    "                # we need only certain part of the matched sequence, defined by outStart and outLength (0 based indexing)\n",
    "                idx2 = len(regexMotif_rc) - (motifStart - 1)\n",
    "                idx1 = len(regexMotif_rc) - (motifStart - 1 + motifLen)\n",
    "                strRC = str(Seq.Seq(str(mm[idx1:idx2]),Seq.IUPAC.ambiguous_dna).reverse_complement())\n",
    "                res = res +   chrom.value + '\\t' + str(chrPos.value+match.start()+idx1) + \\\n",
    "                            '\\t' + str(chrPos.value+match.start()+idx2-1) + \\\n",
    "                            '\\t' + motifName + '_' + 'gRNArc_' +'_'+ str(i) + \\\n",
    "                            '_' + str(mm[idx1:idx2]) + \\\n",
    "                            '\\t0\\t-\\n'\n",
    "                # '_' + strRC + '_' + \\ ??? instead of  '_' + str(mm[idx1:idx2]) + \\ above ?   \n",
    "            i = i+1\n",
    "\n",
    "    resultBox.value = res\n",
    "    resultBox.update_config\n",
    "    \n",
    "def handle_motif(m):\n",
    "    return\n"
   ]
  },
  {
   "cell_type": "code",
   "execution_count": 5,
   "metadata": {
    "collapsed": true,
    "extensions": {
     "jupyter_dashboards": {
      "version": 1,
      "views": {
       "grid_default": {
        "hidden": true
       },
       "report_default": {}
      }
     }
    }
   },
   "outputs": [],
   "source": [
    "motifText = 'SpCas9,GNNNNNNNNNNNNNNNNNNNNGG,1,20'\n",
    "motifText = motifText + '\\n' + 'Sa23Cas9,GNNNNNNNNNNNNNNNNNNNNNNNNGRRT,1,23'\n",
    "motifText = motifText + '\\n' + 'Sa22Cas9,GNNNNNNNNNNNNNNNNNNNNNNNGRRT,1,22'\n",
    "motifText = motifText + '\\n' + 'Sa21Cas9,GNNNNNNNNNNNNNNNNNNNNNNGRRT,1,21'\n",
    "motifText = motifText + '\\n' + 'AsCpf1,TTTNNNNNNNNNNNNNNNNNNNN,5,19'"
   ]
  },
  {
   "cell_type": "code",
   "execution_count": 6,
   "metadata": {
    "ExecuteTime": {
     "end_time": "2016-02-24T12:20:10.819858",
     "start_time": "2016-02-24T12:20:10.736432"
    },
    "code_folding": [],
    "collapsed": false,
    "extensions": {
     "jupyter_dashboards": {
      "version": 1,
      "views": {
       "grid_default": {
        "col": 0,
        "height": 67,
        "hidden": false,
        "row": 10,
        "width": 11
       },
       "report_default": {
        "hidden": false
       }
      }
     }
    }
   },
   "outputs": [],
   "source": [
    "tBox_layout = Layout(height='400px',width='800px')\n",
    "smallBox_layout = Layout(width='200px')\n",
    "miniBox_layout = Layout(width='40px')\n",
    "\n",
    "motifBox = widgets.Textarea(description='', value=motifText, layout=tBox_layout)\n",
    "\n",
    "chrom = widgets.Text(description='Chr:', value='chrX',width='20%')\n",
    "chrPos = widgets.BoundedIntText(description='ChrStart:', min=1, max=999999999, value=67523514,width='20%')\n",
    "\n",
    "startButton = widgets.Button(description='Start',  button_style='info')\n",
    "startButton.on_click(on_button_clicked) \n",
    "\n",
    "\n",
    "page0 = widgets.Box(children=[widgets.HBox(children=[motifBox]),widgets.HBox(children=[chrom,chrPos])])\n",
    "#chrom,chrPos\n",
    "accord0 = widgets.Accordion(children=[page0], width=800, height=400)\n",
    "accord0.set_title(0, 'MotifID,motif,start,length')\n",
    "\n",
    "sequence = widgets.Textarea(description='', width='90%',height='500px', value=exampleSequence)\n",
    "page1 = widgets.Box(children=[sequence])\n",
    "accord1 = widgets.Accordion(children=[page1], width=800, height=400)\n",
    "accord1.set_title(0, 'Sequence')\n",
    "\n",
    "resultBox = widgets.Textarea(description='', width='90%',height='500px', value='')\n",
    "page2 = widgets.Box(children=[resultBox])\n",
    "accord2 = widgets.Accordion(children=[page2], width=800, height=400)\n",
    "accord2.set_title(0, 'Results')\n",
    "\n",
    "display(startButton,accord0,accord1,accord2)\n",
    "\n"
   ]
  },
  {
   "cell_type": "markdown",
   "metadata": {
    "extensions": {
     "jupyter_dashboards": {
      "version": 1,
      "views": {
       "grid_default": {
        "col": 0,
        "height": 7,
        "hidden": false,
        "row": 3,
        "width": 12
       },
       "report_default": {
        "hidden": false
       }
      }
     }
    }
   },
   "source": [
    "This tool takes a genetic _Sequence_ and looks for patterns which match the given _Motif_. In the motif 'N' character matches any letter in the sequence. User can truncate the displayed matching sequences by setting the _From_ and _Length_ fields.   \n",
    "After pressing the _Start_ button, on the output the truncated matcing sequences, and their positions are listed.  \n",
    "\n",
    "- IUPAC characters, other than ACGT are handled in Motif, but not in Sequence\n",
    "- all lower case characters in the sequence are converted to upper case\n",
    "- all characters except 'A','C','G','T' (including whitespaces and linebreake) will be removed from Sequence\n",
    "- all characters except 'A','C','G','T' and IUPAC characters: RYSWKMBDHV, and 'N' - which matches any base will be removed from Motif\n",
    "- !!! output BED files use 0-based indexing!!! See: https://genome.ucsc.edu/FAQ/FAQformat.html#format1\n"
   ]
  }
 ],
 "metadata": {
  "extensions": {
   "jupyter_dashboards": {
    "activeView": "grid_default",
    "version": 1,
    "views": {
     "grid_default": {
      "cellMargin": 10,
      "defaultCellHeight": 20,
      "layoutStrategy": "packed",
      "maxColumns": 12,
      "name": "grid",
      "type": "grid"
     },
     "report_default": {
      "name": "report",
      "type": "report"
     }
    }
   }
  },
  "hide_input": false,
  "kernelspec": {
   "display_name": "Python 3",
   "language": "python",
   "name": "python3"
  },
  "language_info": {
   "codemirror_mode": {
    "name": "ipython",
    "version": 3
   },
   "file_extension": ".py",
   "mimetype": "text/x-python",
   "name": "python",
   "nbconvert_exporter": "python",
   "pygments_lexer": "ipython3",
   "version": "3.4.2"
  },
  "latex_envs": {
   "bibliofile": "biblio.bib",
   "cite_by": "apalike",
   "current_citInitial": 1,
   "eqLabelWithNumbers": true,
   "eqNumInitial": 0
  },
  "widgets": {
   "state": {
    "0f7cd826032e4110917185e1644a060b": {
     "views": [
      {
       "cell_index": 6
      }
     ]
    },
    "216d0d7591e44562b683aa74290235e4": {
     "views": [
      {
       "cell_index": 6
      }
     ]
    },
    "2742dd2ce6ee48589d6a22b26f6c49e7": {
     "views": [
      {
       "cell_index": 6
      }
     ]
    },
    "28ceae745ad14c4093ee407de100a47c": {
     "views": [
      {
       "cell_index": 6
      }
     ]
    },
    "29d1337f77664ada852d23d897b2503e": {
     "views": [
      {
       "cell_index": 6
      }
     ]
    },
    "3d2e9006f30947b5a4b2ab0ab75ed36c": {
     "views": [
      {
       "cell_index": 6
      }
     ]
    },
    "412dfd39860b447a8a180b32d5c8215e": {
     "views": [
      {
       "cell_index": 6
      }
     ]
    },
    "470b028837a8449f95616c211880ca8e": {
     "views": [
      {
       "cell_index": 6
      }
     ]
    },
    "4f14a024a7714831a3fa9eb3fef28a6f": {
     "views": [
      {
       "cell_index": 6
      }
     ]
    },
    "5715ee6a3ae544ff888d918c1bf4ae02": {
     "views": [
      {
       "cell_index": 6
      }
     ]
    },
    "575417de55f7401aa0197d1949f9d07a": {
     "views": [
      {
       "cell_index": 6
      }
     ]
    },
    "6babb1d933784933800444d63a908bf1": {
     "views": [
      {
       "cell_index": 5
      }
     ]
    },
    "6db61097847846809a82fcbfcbe4b5db": {
     "views": [
      {
       "cell_index": 6
      }
     ]
    },
    "831f51056b10439a97a9db279899c999": {
     "views": [
      {
       "cell_index": 6
      }
     ]
    },
    "8b8d3a881d214a3b9f998596fbcd61cd": {
     "views": [
      {
       "cell_index": 5
      }
     ]
    },
    "8cb15b1c8ae04ae2a9e826285d1e621e": {
     "views": [
      {
       "cell_index": 6
      }
     ]
    },
    "8e7da3c006f44b1e9d5e2cedc0b02610": {
     "views": [
      {
       "cell_index": 6
      }
     ]
    },
    "958073105a9f49859cb964d1a335fb6c": {
     "views": [
      {
       "cell_index": 6
      }
     ]
    },
    "9c83c760a8e447269c5657895604df74": {
     "views": [
      {
       "cell_index": 6
      }
     ]
    },
    "9dee9cfee82744c3a5a4bdef6e836c6c": {
     "views": [
      {
       "cell_index": 6
      }
     ]
    },
    "9eda68e7a80444d092ba23e82ee06d86": {
     "views": [
      {
       "cell_index": 6
      }
     ]
    },
    "a07c9fe8344a43edacce1c3b457b120d": {
     "views": [
      {
       "cell_index": 6
      }
     ]
    },
    "a95c4384729d44288a6005b37b77d494": {
     "views": [
      {
       "cell_index": 6
      }
     ]
    },
    "ac2bf645516e49ad9edc290e776e50b1": {
     "views": [
      {
       "cell_index": 6
      }
     ]
    },
    "b379ebc0057d4bcbb1dc075d514ea4a1": {
     "views": [
      {
       "cell_index": 6
      }
     ]
    },
    "c5da13f7bc284accac11b8778a87451a": {
     "views": [
      {
       "cell_index": 6
      }
     ]
    },
    "cb0f15ca9e744f77abc9e28fa5cbb4e2": {
     "views": [
      {
       "cell_index": 6
      }
     ]
    },
    "d3ccec8a232b4b5b957d2cd67688521e": {
     "views": [
      {
       "cell_index": 6
      }
     ]
    },
    "d4b86173585546d388ef7b52ddf933a3": {
     "views": [
      {
       "cell_index": 6
      }
     ]
    },
    "d9976ea85f6446a291cfd3281579d63c": {
     "views": [
      {
       "cell_index": 6
      }
     ]
    },
    "e023c4c48ab54404b0e16d184277e1a9": {
     "views": [
      {
       "cell_index": 6
      }
     ]
    },
    "e18801dc469942f6a3e80360e25c2a3f": {
     "views": [
      {
       "cell_index": 6
      }
     ]
    },
    "e45fd36fb4084d9880315a7e4faed34d": {
     "views": [
      {
       "cell_index": 6
      }
     ]
    },
    "e5dce361b8bc46ecac3369e1255ec2dd": {
     "views": [
      {
       "cell_index": 6
      }
     ]
    },
    "ecbb516b371f4946be030bf2d467fc3b": {
     "views": [
      {
       "cell_index": 6
      }
     ]
    },
    "f372095463954bea9dfc83f179e0d77b": {
     "views": [
      {
       "cell_index": 6
      }
     ]
    },
    "f5781a3f0d754aa6bf414c467386b486": {
     "views": [
      {
       "cell_index": 6
      }
     ]
    },
    "f72346ea94ab4d37bd88fd25d314914a": {
     "views": [
      {
       "cell_index": 6
      }
     ]
    },
    "fbb121c018884d14b0a258a0b8333b98": {
     "views": [
      {
       "cell_index": 6
      }
     ]
    },
    "fd251b1af8f94285964527ea38b5493e": {
     "views": [
      {
       "cell_index": 6
      }
     ]
    }
   },
   "version": "1.2.0"
  }
 },
 "nbformat": 4,
 "nbformat_minor": 0
}
