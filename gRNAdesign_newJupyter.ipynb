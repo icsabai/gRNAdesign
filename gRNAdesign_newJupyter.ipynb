{
 "cells": [
  {
   "cell_type": "markdown",
   "metadata": {
    "extensions": {
     "jupyter_dashboards": {
      "version": 1,
      "views": {
       "grid_default": {
        "col": 0,
        "height": 3,
        "hidden": false,
        "row": 0,
        "width": 9
       },
       "report_default": {
        "hidden": false
       }
      }
     }
    }
   },
   "source": [
    "# Guide RNA design  "
   ]
  },
  {
   "cell_type": "code",
   "execution_count": 91,
   "metadata": {
    "collapsed": true,
    "extensions": {
     "jupyter_dashboards": {
      "version": 1,
      "views": {
       "grid_default": {
        "hidden": true
       },
       "report_default": {
        "hidden": false
       }
      }
     }
    }
   },
   "outputs": [],
   "source": [
    "from Bio import Seq\n",
    "import re\n",
    "from itertools import product \n",
    "from ipywidgets import *  \n",
    "from IPython.display import display"
   ]
  },
  {
   "cell_type": "code",
   "execution_count": 92,
   "metadata": {
    "ExecuteTime": {
     "end_time": "2016-02-24T12:01:53.395116",
     "start_time": "2016-02-24T12:01:53.144761"
    },
    "collapsed": true,
    "extensions": {
     "jupyter_dashboards": {
      "version": 1,
      "views": {
       "grid_default": {
        "hidden": true
       },
       "report_default": {
        "hidden": false
       }
      }
     }
    }
   },
   "outputs": [],
   "source": [
    "exampleSequence = \"TGAGAGAAGAGTTTCATATTTGCAAGGTCTCAGACATGCCTTTAAAATTTCATAATACTTCTTCTTGTGTTTCCCATGCTTGATGGGGCTCAGAATTGACAGTGTACATTTTCAGTAATACAGAGATGAGAAGGGTCAGAGAGGAAGTAAAGTGGCTAGGACTGGCTATGTAAATTGCCAAGGGGTGCAGTTCAAATGAAAATGTGAGACCTCTAATATAAAATTTCATGATGGGGATAATGGATCATGAAACTAATCGTGGGGCTTTGTGCGACACCACGGGACACTTGCCTACAAAGCCATCCCTACTCCCTGCTTAAACGGAGACAAGAACACATTGGTGATTCTCAAATGCAAACTGTCCCTTTACTGAAAACCTAATGAGTTTAATGCTTACTATACTGTAGTCCCTTATGTGCTGATTACATTGTGGAATGCTGCAGGGAGAAAAACAAATTCACCTAATGATGCTAAAGAACCATTAGGAGACTTTACTAGTTTAGGTCACAAGTGCCTAGAAATACAGAAATGATCTTTGACCTTTCCTCCATTTTTCAAAAGGACGCTATTTCTGTGAACCTCATTGACCTCTCCAGACAAAGTCCCAGATTGCCTTTGCCAAAGTTAACAACCCATCTTGGCTTCTTGCCATTTCTCATGTATTCACTAGATCAGTGCATGACTGCTGCTCTCAACCCACATCATGGGGCCAGAGCCTTCACTGGTTAATATTTATAAAAAAATACTTTGAAGATTAAATCCTTGGTCAGTAGAGAAAACACTAGACATGGATAGAACAAGAAATTGTGGGGTCTGGGCCTCCTCCCAGAACTGCCACCACCAGACAATGTTATCTTTGACAGATTTGTGGTATCTGGGTGGCTGTACTTTTCTTTTGGTGAAATAGCAAAAGCCAAAAAAAGAGACTGTAACATCTGATGGGATTTTGCCCAGCTCCAGTACTGAATTCCTGGGTTGCCTTAGAGGAAAGGTATTGACTGTTTCATCTCTTTGGCCCTCAGTATACTCCCCCAACCCAAATCCACCCCTCCGTCATACACACATCTTACTCTGGAAATGATTCTTAGCAGGAAAACATACTATTATGAGGAACATACTTAGCAGTGCTCTCATAACCCTGCCAAGGGCTGGCATTTTGATTTTGTTTGCACACAGAAACCTGTTTGACTGAAATCTGGAAAAAAAAAAAAAAAAAAAAGAAAAACCAGACACGGGAGAAAAATAAAAATCACAGTAGTTTTATACATACATTTGATTTCTAAGGCCAGATAACTGATTTTGTTACCATTTTCTATCCTGTTATTCTGGTGCTGCGAATGCACTAGCTAGAAGTAAAAGTTGTGGGGAAAGGAAGAAGTTGGTTCTGAGTTTATTTTCCCCAGGGTTTCTGAGGGAGTTCCACCCTCTCCCCTGAAAGGGAGTTGGGGCAAATCTATGTTTCTAATTCCACATCAAGTGTAACTATAGCCTGTTCAGAATATTCCTCTTTGAAACAGCACTTTGAGAACAGGGAGCTGCAGCAGTGCAAGACAGCTTGTGGTTGGCTTGGGACTTTAGCCTCAACCCAAATTTGGAACTGGGAACATCTCCAGTCAGCTCTATGGCTAGTCTCACCTTCCTGATCAGCCACTTGGGCGGGCTGTAAGCCTGGCTAAACCAGGTCACCTCAACATTTGTGTCAGGGCAAAGAGTGGAGGAGAGAAGGTGTTTCTTCAACTCCTGGCTTTTAGCTGTGCCTGGATGCCTGCATACTGTTAAAATTCAGCTGCCAGCCTTATCTTATCCGTAATCAGTTGAATTTATTACAATAATCTGATTTTAGAAGCCCCTGAGGCATGGCTTGAGGTCCTATATTGACTTAGGCCCTTGGCTCTGAGGCATTAGAGTCCTGAATTGACTTTAAAGAGGCATAGAAACATAGATGTCTACCAAAGGCTTCAAACTGGCCAACTCTCAGTCTATTTCAACATGCCCTACTGAGCCAATCACTCTGTGCCAAGCCAGTACTAAGAACTGGGGGGACAAAGTGGACTGAGTCTACTCCCTGCTCTTCAGAAGCTCAAAGGCTGTTTATGAAACCAGAGAAGTAAATATATGCTTTCAATATAATGTGATTAATTATAGGCTAGAAATGAGATTGAATGCCTTGAAAGCACTGAGGGTGAGGATCCAACACAACCTAGGGGCATCGGGGAAGACTTCCTGTAAAAGGGATCGCCAGGTAGGGTTGAAAGTAGTTGGGGGGAAACAGTGAGAAATAAATGCCAAAGAAGAAGCAGAAAAAGCAAAGGCAAGGAGGTCTCTTACAGCACTCTATGCTCAGGAAATTATAATGAGTCAGGATAAGTAAACCT\""
   ]
  },
  {
   "cell_type": "code",
   "execution_count": 93,
   "metadata": {
    "collapsed": true,
    "extensions": {
     "jupyter_dashboards": {
      "version": 1,
      "views": {
       "grid_default": {
        "hidden": true
       },
       "report_default": {
        "hidden": false
       }
      }
     }
    }
   },
   "outputs": [],
   "source": [
    "# funcion to extend ambiguous IUPAC letters. This function generates all possible sequences, \n",
    "# expanding the characters defined by the IUPAC standard, expect 'N' (since that would create a huge overhead)\n",
    "def extend_ambiguous_expectN_dna(seq):\n",
    "    \"\"\"return list of all possible sequences given an ambiguous DNA input\"\"\"\n",
    "    d = Seq.IUPAC.IUPACData.ambiguous_dna_values\n",
    "    d['N'] = 'N' # here we exclude expansion of N\n",
    "    r = []\n",
    "    for i in product(*[d[j] for j in seq]):\n",
    "        r.append(\"\".join(i))\n",
    "    return r "
   ]
  },
  {
   "cell_type": "code",
   "execution_count": 94,
   "metadata": {
    "ExecuteTime": {
     "end_time": "2016-02-24T12:16:20.663733",
     "start_time": "2016-02-24T12:16:20.652041"
    },
    "collapsed": false,
    "extensions": {
     "jupyter_dashboards": {
      "version": 1,
      "views": {
       "grid_default": {
        "hidden": true
       },
       "report_default": {
        "hidden": false
       }
      }
     }
    }
   },
   "outputs": [],
   "source": [
    "def on_button_clicked(b):\n",
    "    cleanMotif = re.sub(r\"[^ACTGRYSWKMBDHVN]\", '',motif.value.upper())\n",
    "    cleanMotif_rc = str(Seq.Seq(cleanMotif,Seq.IUPAC.ambiguous_dna).reverse_complement())\n",
    "    # the IUPAC letters are allowed, but not matched in Sequence\n",
    "    cleanSequence = re.sub(r\"[^ACTGRYSWKMBDHV]\", '',sequence.value.upper())\n",
    "    #print(\"Cleaned motif:\",cleanMotif,\"\\n\")\n",
    "    #print(\"Cleaned sequence:\\n\",cleanSequence)\n",
    "    #print(\"\\nMatches found:\\n\")\n",
    "    res = ''\n",
    "    res = res + 'browser position '+str(chrom.value)+':'+str(chrPos.value) +'-' + str(chrPos.value+len(cleanSequence))+'\\n'\n",
    "    res = res + 'browser hide all\\n'\n",
    "    res = res + 'track name=\"ColorByStrandDemo\" description=\"Color by strand demonstration\" '+ 'visibility=2 colorByStrand=\"255,0,0 0,0,255\"\\n'\n",
    "\n",
    "    # forward\n",
    "    i = 1\n",
    "    for iupacMotif in extend_ambiguous_expectN_dna(cleanMotif):\n",
    "        regexMotif = re.sub(r\"N\", '.',iupacMotif)\n",
    "        #for match in re.finditer(regexMotif, cleanSequence): # finds only non-overlapping matches\n",
    "        for match in re.finditer(r'(?=('+regexMotif+'))', cleanSequence):\n",
    "            mm = match.group(1)\n",
    "            # we need only certain part of the matched sequence, defined by outStart and outLength (0 based indexing)\n",
    "            idx1 = outStart.value - 1\n",
    "            idx2 = idx1 + outLength.value\n",
    "            #print(match.start()+idx1,mm[idx1:idx2], mm)\n",
    "            res = res +  chrom.value + '\\t' + str(chrPos.value+match.start()+idx1) + '\\t' + str(chrPos.value+match.start()+idx2-1) + '\\t' + 'gRNA_' + str(i) + '_' + str(mm[idx1:idx2]) + '\\t0\\t+\\n'\n",
    "            #res = res + str(match.start()+idx1+1) +' ' + str(mm[idx1:idx2]) + '+\\n'\n",
    "            i = i+1\n",
    "\n",
    "    # reverse complement\n",
    "    i = 1\n",
    "    for iupacMotif_rc in extend_ambiguous_expectN_dna(cleanMotif_rc):\n",
    "        regexMotif_rc =  re.sub(r\"N\", '.',iupacMotif_rc)\n",
    "        #for match in re.finditer(regexMotif_rc, cleanSequence): # finds only non-overlapping matches\n",
    "        for match in re.finditer(r'(?=('+regexMotif_rc+'))', cleanSequence):\n",
    "            mm = match.group(1)\n",
    "            # we need only certain part of the matched sequence, defined by outStart and outLength (0 based indexing)\n",
    "            idx2 = len(regexMotif_rc) - (outStart.value - 1)\n",
    "            idx1 = len(regexMotif_rc) - (outStart.value - 1 + outLength.value)\n",
    "            #print(match.start()+idx1,mm[idx1:idx2], mm)\n",
    "            res = res +  chrom.value + '\\t' + str(chrPos.value+match.start()+idx1) + '\\t' + str(chrPos.value+match.start()+idx2-1) + '\\t' + 'gRNArc_' + str(i) + '_' + str(mm[idx1:idx2]) + '\\t0\\t-\\n'\n",
    "            #res = res + str(match.start()+idx1+1) +' ' + str(mm[idx1:idx2]) + '-\\n'\n",
    "            i = i+1\n",
    "\n",
    "    resultBox.value = res\n",
    "    resultBox.update_config\n",
    "    \n",
    "def handle_motif(m):\n",
    "    return\n"
   ]
  },
  {
   "cell_type": "code",
   "execution_count": 96,
   "metadata": {
    "ExecuteTime": {
     "end_time": "2016-02-24T12:20:10.819858",
     "start_time": "2016-02-24T12:20:10.736432"
    },
    "code_folding": [],
    "collapsed": false,
    "extensions": {
     "jupyter_dashboards": {
      "version": 1,
      "views": {
       "grid_default": {
        "col": 0,
        "height": 46,
        "hidden": false,
        "row": 3,
        "width": 10
       },
       "report_default": {
        "hidden": false
       }
      }
     }
    }
   },
   "outputs": [],
   "source": [
    "tBox_layout = Layout(height='400px',width='800px')\n",
    "smallBox_layout = Layout(width='200px')\n",
    "miniBox_layout = Layout(width='40px')\n",
    "\n",
    "motif = widgets.Text(description='Motif:', value='GNNNNNNNNNNNNNNNNNNNNGG',width='50%')\n",
    "motif.on_submit(handle_motif)\n",
    "#TODO: use: max=len(motif.value), but it is not updated when motif is changed \n",
    "outStart = widgets.BoundedIntText(description='From:', min=1, max=999999, value=1,width='13%')\n",
    "outLength = widgets.BoundedIntText(description='Length:', min=1, max=999999, value=20,width='13%')\n",
    "chrom = widgets.Text(description='Chr:', value='chrX',width='20%')\n",
    "chrPos = widgets.BoundedIntText(description='ChrStart:', min=1, max=999999999, value=67523514,width='20%')\n",
    "\n",
    "startButton = widgets.Button(description='Start',  button_style='info')\n",
    "startButton.on_click(on_button_clicked) \n",
    "#startButton.background_color = \"cornflowerblue\"\n",
    "#startButton.background_color = 'blue'\n",
    "#startButton.button_style = 'Info'\n",
    "#startButton.font_weight = 'bold'\n",
    "#startButton.font_size = '14pt'\n",
    "\n",
    "page0 = widgets.Box(children=[widgets.HBox(children=[motif,outStart,outLength]),widgets.HBox(children=[chrom,chrPos])])\n",
    "#chrom,chrPos\n",
    "accord0 = widgets.Accordion(children=[page0], width=800, height=400)\n",
    "accord0.set_title(0, 'Motif')\n",
    "\n",
    "sequence = widgets.Textarea(description='', width='90%',height='500px', value=exampleSequence)\n",
    "#zip1 = widgets.BoundedIntText(description='Zip:', min=0, max=99999)\n",
    "#page1 = widgets.Box(children=[name1, zip1])\n",
    "page1 = widgets.Box(children=[sequence])\n",
    "accord1 = widgets.Accordion(children=[page1], width=800, height=400)\n",
    "accord1.set_title(0, 'Sequence')\n",
    "\n",
    "resultBox = widgets.Textarea(description='', width='90%',height='500px', value='')\n",
    "page2 = widgets.Box(children=[resultBox])\n",
    "accord2 = widgets.Accordion(children=[page2], width=800, height=400)\n",
    "accord2.set_title(0, 'Results')\n",
    "\n",
    "display(startButton,accord0,accord1,accord2)\n",
    "\n"
   ]
  },
  {
   "cell_type": "markdown",
   "metadata": {
    "extensions": {
     "jupyter_dashboards": {
      "version": 1,
      "views": {
       "grid_default": {
        "col": 0,
        "height": 7,
        "hidden": false,
        "row": 49,
        "width": 12
       },
       "report_default": {
        "hidden": false
       }
      }
     }
    }
   },
   "source": [
    "This tool takes a genetic _Sequence_ and looks for patterns which match the given _Motif_. In the motif 'N' character matches any letter in the sequence. User can truncate the displayed matching sequences by setting the _From_ and _Length_ fields.   \n",
    "After pressing the _Start_ button, on the output the truncated matcing sequences, and their positions are listed.  \n",
    "\n",
    "- IUPAC characters, other than ACGT are handled in Motif, but not in Sequence\n",
    "- all lower case characters in the sequence are converted to upper case\n",
    "- all characters except 'A','C','G','T' (including whitespaces and linebreake) will be removed from Sequence\n",
    "- all characters except 'A','C','G','T' and IUPAC characters: RYSWKMBDHV, and 'N' - which matches any base will be removed from Motif\n",
    "- !!! output BED files use 0-based indexing!!! See: https://genome.ucsc.edu/FAQ/FAQformat.html#format1\n"
   ]
  }
 ],
 "metadata": {
  "extensions": {
   "jupyter_dashboards": {
    "activeView": "grid_default",
    "version": 1,
    "views": {
     "grid_default": {
      "cellMargin": 10,
      "defaultCellHeight": 20,
      "layoutStrategy": "packed",
      "maxColumns": 12,
      "name": "grid",
      "type": "grid"
     },
     "report_default": {
      "name": "report",
      "type": "report"
     }
    }
   }
  },
  "hide_input": false,
  "kernelspec": {
   "display_name": "Python 3",
   "language": "python",
   "name": "python3"
  },
  "language_info": {
   "codemirror_mode": {
    "name": "ipython",
    "version": 3
   },
   "file_extension": ".py",
   "mimetype": "text/x-python",
   "name": "python",
   "nbconvert_exporter": "python",
   "pygments_lexer": "ipython3",
   "version": "3.4.2"
  },
  "latex_envs": {
   "bibliofile": "biblio.bib",
   "cite_by": "apalike",
   "current_citInitial": 1,
   "eqLabelWithNumbers": true,
   "eqNumInitial": 0
  },
  "widgets": {
   "state": {
    "00ec81684f2649a1917801972c1e9c84": {
     "views": [
      {
       "cell_index": 5
      }
     ]
    },
    "156374c713294d05bb41d58735b494ce": {
     "views": [
      {
       "cell_index": 7
      }
     ]
    },
    "2813ad0d49604cf99aec5385922adaa1": {
     "views": [
      {
       "cell_index": 5
      }
     ]
    },
    "281c7d3b98fc40019f1c5755db2c1904": {
     "views": [
      {
       "cell_index": 7
      }
     ]
    },
    "2dcab9b65502406bb853e1967492e85a": {
     "views": [
      {
       "cell_index": 7
      }
     ]
    },
    "2e784f78bff444c887f9c1767448df5a": {
     "views": [
      {
       "cell_index": 7
      }
     ]
    },
    "3854164874d447dba7f06c24112c4297": {
     "views": [
      {
       "cell_index": 6
      }
     ]
    },
    "3a9845c3d2a541cfa30c7c03b0735a25": {
     "views": [
      {
       "cell_index": 7
      }
     ]
    },
    "3d14491f287843f599a04daf01e583fb": {
     "views": [
      {
       "cell_index": 7
      }
     ]
    },
    "40fa9dc02d0f4ffeba92c04a06ca209d": {
     "views": [
      {
       "cell_index": 5
      }
     ]
    },
    "528a5377219a42da9309d97bc72d5fbc": {
     "views": [
      {
       "cell_index": 7
      }
     ]
    },
    "5b25947bc6494735b136d105c3b312ce": {
     "views": [
      {
       "cell_index": 7
      }
     ]
    },
    "5c6011c59f6042388fa875bee3ccc816": {
     "views": [
      {
       "cell_index": 7
      }
     ]
    },
    "7b8b1cd13e6e4dffb6ff393dc28d7ff6": {
     "views": [
      {
       "cell_index": 5
      }
     ]
    },
    "7edb463694fa48e29bcff24057fb3ab3": {
     "views": [
      {
       "cell_index": 7
      }
     ]
    },
    "8b14e3a8914042ccbde2c998e102cb40": {
     "views": [
      {
       "cell_index": 7
      }
     ]
    },
    "9b6f908df38b4c6788e445dea234e10b": {
     "views": [
      {
       "cell_index": 7
      }
     ]
    },
    "9f3fe755c16341e2bacceaceb5137db0": {
     "views": [
      {
       "cell_index": 5
      }
     ]
    },
    "b7fa7d0ec44a4c9ebb24f9e9b98d3e46": {
     "views": [
      {
       "cell_index": 7
      }
     ]
    },
    "becacf5cfadf4a93894b3876a7786398": {
     "views": [
      {
       "cell_index": 7
      }
     ]
    },
    "bfb404d995d441489c6cc6c75911d857": {
     "views": [
      {
       "cell_index": 5
      }
     ]
    },
    "cd532c384ce4421785e5314e8e85eb75": {
     "views": [
      {
       "cell_index": 7
      }
     ]
    },
    "d08e07a6a9734349bf02c54860bf4c5d": {
     "views": [
      {
       "cell_index": 7
      }
     ]
    },
    "d670e1d2361348b69a3635811d25369d": {
     "views": [
      {
       "cell_index": 7
      }
     ]
    },
    "dfc1ecda74e348a8954c2b64029c316c": {
     "views": [
      {
       "cell_index": 5
      }
     ]
    },
    "e7fefb573cc84bd8b3d75131c77bf15d": {
     "views": [
      {
       "cell_index": 7
      }
     ]
    },
    "ef9e08c8b49b45bdbc89fb08edf37c56": {
     "views": [
      {
       "cell_index": 7
      }
     ]
    },
    "f05703649f9e4d3fae5863cbce77123c": {
     "views": [
      {
       "cell_index": 5
      }
     ]
    },
    "f42d56b7c5124d65a9fca7c4b233aaaa": {
     "views": [
      {
       "cell_index": 7
      }
     ]
    }
   },
   "version": "1.2.0"
  }
 },
 "nbformat": 4,
 "nbformat_minor": 0
}
