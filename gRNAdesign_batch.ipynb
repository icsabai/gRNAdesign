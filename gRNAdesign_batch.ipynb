{
 "cells": [
  {
   "cell_type": "markdown",
   "metadata": {
    "urth": {
     "dashboard": {
      "layout": {
       "col": 0,
       "height": 3,
       "row": 0,
       "width": 6
      }
     }
    }
   },
   "source": [
    "# Batch run of guide RNA design based on dbSNP rs numbers  "
   ]
  },
  {
   "cell_type": "code",
   "execution_count": 1,
   "metadata": {
    "ExecuteTime": {
     "end_time": "2016-02-24T12:01:52.156733",
     "start_time": "2016-02-24T12:01:52.139501"
    },
    "collapsed": false,
    "scrolled": true,
    "urth": {
     "dashboard": {
      "layout": {
       "col": 0,
       "height": 2,
       "row": 3,
       "width": 6
      }
     }
    }
   },
   "outputs": [
    {
     "data": {
      "text/html": [
       "<script>\n",
       "code_show=true; \n",
       "function code_toggle() {\n",
       " if (code_show){\n",
       " $('div.input').show();\n",
       " } else {\n",
       " $('div.input').hide();\n",
       " }\n",
       " code_show = !code_show\n",
       "} \n",
       "$( document ).ready(code_toggle);\n",
       "</script>\n",
       "<form action=\"javascript:code_toggle()\"><input type=\"submit\" value=\"See usage information at the end! Click here to toggle on/off the raw code. \"></form>"
      ],
      "text/plain": [
       "<IPython.core.display.HTML object>"
      ]
     },
     "execution_count": 1,
     "metadata": {},
     "output_type": "execute_result"
    }
   ],
   "source": [
    "from IPython.core.display import HTML\n",
    "HTML('''\n",
    "<style>\n",
    "    div.prompt {display:none}\n",
    "    div.cell{\n",
    "        width:100%;\n",
    "        margin-left:1%;\n",
    "        margin-right:1%;\n",
    "    }\n",
    "</style>''')\n",
    "\n",
    "# shift code cells\n",
    "HTML('''\n",
    "<style>\n",
    "    div.input{\n",
    "        width:100%;\n",
    "        padding-left:2em;\n",
    "        padding-right:0em;\n",
    "    }\n",
    "</style>''')\n",
    "# code toggle button\n",
    "HTML('''<script>\n",
    "code_show=true; \n",
    "function code_toggle() {\n",
    " if (code_show){\n",
    " $('div.input').show();\n",
    " } else {\n",
    " $('div.input').hide();\n",
    " }\n",
    " code_show = !code_show\n",
    "} \n",
    "$( document ).ready(code_toggle);\n",
    "</script>\n",
    "<form action=\"javascript:code_toggle()\"><input type=\"submit\" value=\"See usage information at the end! Click here to toggle on/off the raw code. \"></form>''')"
   ]
  },
  {
   "cell_type": "code",
   "execution_count": 2,
   "metadata": {
    "collapsed": true
   },
   "outputs": [],
   "source": [
    "from Bio import Seq\n",
    "import re\n",
    "from itertools import product\n",
    "import pandas as pd\n",
    "#  pip3.4  install sqlalchemy --user\n",
    "# pip3.4  install pymysql --user \n",
    "from sqlalchemy import create_engine\n",
    "import requests\n",
    "import xml.etree.ElementTree as ET\n",
    "from ipywidgets import *  \n",
    "from IPython.display import display "
   ]
  },
  {
   "cell_type": "code",
   "execution_count": 3,
   "metadata": {
    "collapsed": false
   },
   "outputs": [],
   "source": [
    "# Get genomic position from UCSC based on dbSNP rs number\n",
    "# UCSC dbSNP table schema: http://ucscbrowser.genap.ca/cgi-bin/hgTables?db=hg38&hgta_group=varRep&hgta_track=snp142Common&hgta_table=snp142Common&hgta_doSchema=describe+table+schema\n",
    "# dbSnpVersion=hg38.snp142 or similar\n",
    "def getDbSnpPosition(rsIdList,dbSnpVersion):\n",
    "    rsIdStr = \"\"\n",
    "    for id in rsIdList:\n",
    "        rsIdStr += \"'\" + id + \"',\"\n",
    "    rsIdStr = rsIdStr[:-1]\n",
    "    #print(rsIdStr)\n",
    "    \n",
    "    engine = create_engine(\"mysql+pymysql://genome@genome-mysql.cse.ucsc.edu\")\n",
    "    query = \"select chrom, chromStart, chromEnd, name, observed from \" + dbSnpVersion + \" WHERE name IN (\" + rsIdStr + \")\"\n",
    "    dbSNP_data =  pd.read_sql_query(query, engine)\n",
    "    #chromRS.value = dbSNP_data.ix[0,0] # dbSNP_data['chrom']\n",
    "    #chromRSStart.value = dbSNP_data.ix[0,1] #dbSNP_data['chromStart']\n",
    "    #chromRSEnd.value = dbSNP_data.ix[0,2] #dbSNP_data['chromEnd']\n",
    "    return dbSNP_data\n"
   ]
  },
  {
   "cell_type": "code",
   "execution_count": 4,
   "metadata": {
    "collapsed": true
   },
   "outputs": [],
   "source": [
    "rsList = ['rs339331','rs1109815','rs877343','rs2474694','rs9967549','rs2427530','rs2427531','rs78416326','rs339297','rs111770284','rs1442744','rs551721127','rs10123735','rs11168962','rs2474694','rs11672691','rs887391','rs4845688','rs1109815','rs877343','rs4845695','rs705094','rs75711918','rs1534642','rs7591175','rs6719046','rs386648104','rs386648104','rs6733913']"
   ]
  },
  {
   "cell_type": "code",
   "execution_count": 5,
   "metadata": {
    "collapsed": false
   },
   "outputs": [],
   "source": [
    "motifText = 'SpCas9,GNNNNNNNNNNNNNNNNNNNNGG,1,20'\n",
    "motifText = motifText + '\\n' + 'Sa23Cas9,GNNNNNNNNNNNNNNNNNNNNNNNNGRRT,1,23'\n",
    "motifText = motifText + '\\n' + 'Sa22Cas9,GNNNNNNNNNNNNNNNNNNNNNNNGRRT,1,22'\n",
    "motifText = motifText + '\\n' + 'Sa21Cas9,GNNNNNNNNNNNNNNNNNNNNNNGRRT,1,21'\n",
    "motifText = motifText + '\\n' + 'AsCpf1,TTTNNNNNNNNNNNNNNNNNNNN,5,19'"
   ]
  },
  {
   "cell_type": "code",
   "execution_count": 6,
   "metadata": {
    "collapsed": true
   },
   "outputs": [],
   "source": [
    "# funcion to extend ambiguous IUPAC letters. This function generates all possible sequences, \n",
    "# expanding the characters defined by the IUPAC standard, expect 'N' (since that would create a huge overhead)\n",
    "def extend_ambiguous_expectN_dna(seq):\n",
    "    \"\"\"return list of all possible sequences given an ambiguous DNA input\"\"\"\n",
    "    d = Seq.IUPAC.IUPACData.ambiguous_dna_values\n",
    "    d['N'] = 'N' # here we exclude expansion of N\n",
    "    r = []\n",
    "    for i in product(*[d[j] for j in seq]):\n",
    "        r.append(\"\".join(i))\n",
    "    return r "
   ]
  },
  {
   "cell_type": "code",
   "execution_count": 22,
   "metadata": {
    "collapsed": false
   },
   "outputs": [],
   "source": [
    "# handle Start button click. Get rs positions, get sequences, run the motif match and updates the Results\n",
    "def on_button_clicked(b):\n",
    "    rsList1 = rsBox.value.split('\\n')\n",
    "    print(rsBox.value.split('\\n'))\n",
    "    rsPosDf = getDbSnpPosition(rsList1,str(dbSNPname.value))\n",
    "    res = ''\n",
    "    res2 = ''\n",
    "    res3 = ''\n",
    "    #res = res + 'browser position '+str(chrom.value)+':'+str(chrPos.value) +'-' + str(chrPos.value+len(cleanSequence))+'\\n'\n",
    "    res = res + 'browser hide all\\n'\n",
    "    res = res + 'track name=\"guideRNA\" description=\"Color by strand\" '+ 'visibility=2 colorByStrand=\"255,0,0 0,0,255\"\\n'\n",
    "    # iterate on SNP-s. Chrom,chromStart,chromPos,rsID are given. Get the sequence between [chromStart-window, chromStart+window]\n",
    "    for rs in rsPosDf.iterrows():\n",
    "        chrom = rs[1][0] \n",
    "        offs = int(seqWindow.value)\n",
    "        chromStartInt = int(rs[1][1]) - offs\n",
    "        chromStart = str(chromStartInt)\n",
    "        chromEndInt = int(rs[1][1]) + offs\n",
    "        chromEnd = str(chromEndInt)\n",
    "        rsIdName = rs[1][3] + '_'+ rs[1][4]\n",
    "        rsStart = rs[1][1]\n",
    "        rsEnd = rs[1][2]\n",
    "        genomeVersion = str(dbSNPname.value).split('.')[0]\n",
    "        url = 'http://genome.ucsc.edu/cgi-bin/das/' + genomeVersion \\\n",
    "            + '/dna?segment=' + chrom + ':' + chromStart + ',' \\\n",
    "            + chromEnd\n",
    "        response = requests.get(url)\n",
    "        SeqXml = ET.fromstring(response.text)\n",
    "        SeqText = SeqXml.find('SEQUENCE').find('DNA').text\n",
    "        cleanSequence = re.sub(r\"[^ACTGRYSWKMBDHVN]\", '',SeqText.upper())\n",
    "        #print(rs[1][3],'\\n',sequence)\n",
    "        seqRef = cleanSequence[:]\n",
    "        #seqMut = cleanSequence[:]\n",
    "        if chromEndInt > rsEnd:\n",
    "            # to be sure, that the mutated part does not go longer than the end of the sequence\n",
    "            # otherwise we keep the original sequences\n",
    "            variants = rs[1][4].split('/')\n",
    "            variantSeqs = []\n",
    "            for varis in variants:\n",
    "                variantSeqs.append(seqRef[:offs+1] + varis.lower() + seqRef[offs+1+len(varis):])\n",
    "            #ref = variants[0].lower()\n",
    "            #mut = variants[1].lower()\n",
    "            #seqRef = seqRef[:offs+1] + ref + seqRef[offs+1+len(ref):]\n",
    "            #seqMut = seqMut[:offs+1] + mut + seqMut[offs+1+len(mut):]\n",
    "        \n",
    "        res = res +  chrom + '\\t' + str(rsStart) + '\\t' + \\\n",
    "                        str(rsEnd) + '\\t' + rsIdName + '\\t0\\t+\\n'\n",
    "\n",
    "        rsMotifMatchCount = 0\n",
    "        # we have the sequence, iterate through motifs\n",
    "        for motifLine in motifBox.value.split('\\n'):\n",
    "            motifDesc = motifLine.split(',')\n",
    "            motifName = motifDesc[0]\n",
    "            motif = motifDesc[1]\n",
    "            motifStart = int(motifDesc[2])\n",
    "            motifLen = int(motifDesc[3])\n",
    "            cleanMotif = re.sub(r\"[^ACTGRYSWKMBDHVN]\", '',motif.upper())\n",
    "            cleanMotif_rc = str(Seq.Seq(cleanMotif,Seq.IUPAC.ambiguous_dna).reverse_complement())\n",
    "\n",
    "            # forward\n",
    "            i = 1\n",
    "            for iupacMotif in extend_ambiguous_expectN_dna(cleanMotif):\n",
    "                regexMotif = re.sub(r\"N\", '.',iupacMotif)\n",
    "                #for match in re.finditer(regexMotif, cleanSequence): # finds only non-overlapping matches\n",
    "                for match in re.finditer(r'(?=('+regexMotif+'))', cleanSequence):\n",
    "                    mm = match.group(1)\n",
    "                    # we need only certain part of the matched sequence, defined by outStart and outLength (0 based indexing)\n",
    "                    idx1 = motifStart - 1\n",
    "                    idx2 = idx1 + motifLen\n",
    "                    res = res +  chrom + '\\t' + str(chromStartInt+match.start()+idx1) + '\\t' + \\\n",
    "                        str(chromStartInt+match.start()+idx2-1) + '\\t' + rsIdName + '_' + motifName + '_' + 'gRNA_' + \\\n",
    "                        str(i) + '\\t0\\t+\\n'\n",
    "                    #?seqNoRC = str(mm[idx1:idx2])\n",
    "                    \n",
    "                    seqRef = variantSeqs[0]\n",
    "                    seqMut1 = variantSeqs[1]\n",
    "                    refMotif = seqRef[match.start()+idx1:match.start()+idx2]\n",
    "                    mutMotif1 = seqMut1[match.start()+idx1:match.start()+idx2]\n",
    "                    ref = variants[0].upper()\n",
    "                    res2 = res2 + rsIdName + '\\t' + motifName + '_' + 'gRNA_' + ref +'_'+ str(i) + '\\t' + refMotif + '\\n'\n",
    "                    if refMotif != mutMotif1:\n",
    "                        vv = 1\n",
    "                        for seqMut in variantSeqs[1:]:\n",
    "                            mutMotif = seqMut[match.start()+idx1:match.start()+idx2]\n",
    "                            mut = variants[vv].upper()\n",
    "                            vv = vv + 1\n",
    "                            res2 = res2 + rsIdName \\\n",
    "                            + '\\t' + motifName + '_' + 'gRNA_' + mut +'_'+ str(i) + '\\t' + mutMotif + '\\n'\n",
    "                    # ' ' + cleanSequence + ' ' + seqRef + ' ' + seqMut +\n",
    "                    # '_' + str(mm[idx1:idx2]) +\n",
    "                    #res = res + str(match.start()+idx1+1) +' ' + str(mm[idx1:idx2]) + '+\\n'\n",
    "                    i = i+1\n",
    "                    rsMotifMatchCount = rsMotifMatchCount + 1\n",
    "\n",
    "            # reverse complement\n",
    "            i = 1\n",
    "            for iupacMotif_rc in extend_ambiguous_expectN_dna(cleanMotif_rc):\n",
    "                regexMotif_rc =  re.sub(r\"N\", '.',iupacMotif_rc)\n",
    "                #for match in re.finditer(regexMotif_rc, cleanSequence): # finds only non-overlapping matches\n",
    "                for match in re.finditer(r'(?=('+regexMotif_rc+'))', cleanSequence):\n",
    "                    mm = match.group(1)\n",
    "                    # we need only certain part of the matched sequence, defined by motifStart and motifLen (0 based indexing)\n",
    "                    idx2 = len(regexMotif_rc) - (motifStart - 1)\n",
    "                    idx1 = len(regexMotif_rc) - (motifStart - 1 + motifLen)\n",
    "                    res = res +  chrom + '\\t' + str(chromStartInt+match.start()+idx1) + '\\t' + \\\n",
    "                        str(chromStartInt+match.start()+idx2-1) + '\\t' + rsIdName + '_' + motifName + '_' + 'gRNArc_' + \\\n",
    "                        str(i) + '\\t0\\t-\\n'\n",
    "                    # generate the reverse complement of the sequence\n",
    "                    #?seqNoRC = str(mm[idx1:idx2])\n",
    "                    #?seqRC = str(Seq.Seq(str(mm[idx1:idx2]),Seq.IUPAC.ambiguous_dna).reverse_complement())\n",
    "                    \n",
    "                    seqRef = variantSeqs[0]\n",
    "                    seqMut1 = variantSeqs[1]\n",
    "                    refMotif = seqRef[match.start()+idx1:match.start()+idx2]\n",
    "                    refMotifRC = str(Seq.Seq(refMotif,Seq.IUPAC.ambiguous_dna).reverse_complement())\n",
    "                    mutMotif1 = seqMut1[match.start()+idx1:match.start()+idx2]\n",
    "                    mutMotif1RC = str(Seq.Seq(mutMotif1,Seq.IUPAC.ambiguous_dna).reverse_complement())\n",
    "                    ref = variants[0].upper()\n",
    "                    res2 = res2 + rsIdName + '\\t' + motifName + '_' + 'gRNArc_' + ref +'_'+ str(i) + '\\t' + refMotifRC + '\\n'\n",
    "                    if refMotifRC != mutMotif1RC:\n",
    "                        vv = 1\n",
    "                        for seqMut in variantSeqs[1:]:\n",
    "                            mutMotif = seqMut[match.start()+idx1:match.start()+idx2]\n",
    "                            mutMotifRC = str(Seq.Seq(mutMotif,Seq.IUPAC.ambiguous_dna).reverse_complement())\n",
    "                            mut = variants[vv].upper()\n",
    "                            vv = vv + 1\n",
    "                            res2 = res2 + rsIdName \\\n",
    "                            + '\\t' + motifName + '_' + 'gRNArc_' + mut +'_'+ str(i) + '\\t' + mutMotifRC + '\\n'\n",
    "                    \n",
    "                    #refMotif = seqRef[match.start()+idx1:match.start()+idx2]\n",
    "                    #refMotifRC = str(Seq.Seq(refMotif,Seq.IUPAC.ambiguous_dna).reverse_complement())\n",
    "                    #mutMotif = seqMut[match.start()+idx1:match.start()+idx2]\n",
    "                    #mutMotifRC = str(Seq.Seq(mutMotif,Seq.IUPAC.ambiguous_dna).reverse_complement())\n",
    "                    #res2 = res2 + rsIdName + '\\t' + motifName + '_' + 'gRNArc_' + ref.upper() +'_'+ str(i) + '\\t' + refMotifRC + '\\n'\n",
    "                    #if refMotifRC != mutMotifRC:\n",
    "                    #    res2 = res2 + rsIdName + '\\t' + motifName + '_' + 'gRNArc_' + mut.upper() +'_'+ str(i) + '\\t' + mutMotifRC + '\\n'\n",
    "                    # ' ' + cleanSequence + ' ' + seqRef + ' ' + seqMut +\n",
    "                    # '_' + str(mm[idx1:idx2]) + \n",
    "                    #res = res + str(match.start()+idx1+1) +' ' + str(mm[idx1:idx2]) + '-\\n'\n",
    "                    i = i+1\n",
    "                    rsMotifMatchCount = rsMotifMatchCount + 1\n",
    "        res3 = res3 + rsIdName + '\\t' + str(rsMotifMatchCount) + '\\n'\n",
    "    \n",
    "    resultBox.value = res\n",
    "    resultBox.update_config\n",
    "    tableBox.value = res2\n",
    "    tableBox.update_config\n",
    "    countBox.value = res3\n",
    "    countBox.update_config"
   ]
  },
  {
   "cell_type": "code",
   "execution_count": 23,
   "metadata": {
    "collapsed": false
   },
   "outputs": [
    {
     "name": "stdout",
     "output_type": "stream",
     "text": [
      "['rs339331', 'rs1109815', 'rs877343', 'rs2474694', 'rs9967549', 'rs2427530', 'rs2427531', 'rs78416326', 'rs339297', 'rs111770284', 'rs1442744', 'rs551721127', 'rs10123735', 'rs11168962', 'rs2474694', 'rs11672691', 'rs887391', 'rs4845688', 'rs1109815', 'rs877343', 'rs4845695', 'rs705094', 'rs75711918', 'rs1534642', 'rs7591175', 'rs6719046', 'rs386648104', 'rs386648104', 'rs6733913']\n"
     ]
    }
   ],
   "source": [
    "# ------------\n",
    "rsIdText = \"\"\n",
    "for id in rsList:\n",
    "    rsIdText += id + '\\n'\n",
    "rsIdText = rsIdText[:-1]\n",
    "dbSNPname = widgets.Text(description='dbSNP version:', value='hg38.snp142',width='100px', margin=8)\n",
    "rsBox = widgets.Textarea(description='', value=rsIdText, width=800,height=400)\n",
    "pageRS = widgets.Box(children=[widgets.HBox(children=[dbSNPname]),widgets.HBox(children=[rsBox])])\n",
    "accord1 = widgets.Accordion(children=[pageRS])\n",
    "accord1.set_title(0, 'dbSNP rs numbers')\n",
    "# ------------\n",
    "\n",
    "# ------------\n",
    "#seqWindow = widgets.BoundedIntText(description='+/- window :', min=1, max=999999, value=25,width='100px', margin=8)\n",
    "seqWindow = widgets.Text(description='+/- window around SNP:', value='25',width='100px', margin=8)\n",
    "motifBox = widgets.Textarea(description='', value=motifText, width=800,height=200)\n",
    "pageMotif = widgets.Box(children=[widgets.HBox(children=[seqWindow]),widgets.HBox(children=[motifBox])])\n",
    "accord2 = widgets.Accordion(children=[pageMotif])\n",
    "accord2.set_title(0, 'MotifID,motif,start,length')\n",
    "# ------------\n",
    "\n",
    "# ------------\n",
    "startButton = widgets.Button(description='Start', \n",
    "                             width='100px',height='40px', border_width=10, border_radius = 15, margin=10)\n",
    "startButton.on_click(on_button_clicked) \n",
    "startButton.background_color = \"cornflowerblue\"\n",
    "startButton.background_color = \"cornflowerblue\"\n",
    "startButton.button_style = 'Info'\n",
    "startButton.font_weight = 'bold'\n",
    "startButton.font_size = '14pt'\n",
    "# ------------\n",
    "\n",
    "resultBox = widgets.Textarea(description='', width=800,height=400)\n",
    "accord3 = widgets.Accordion(children=[resultBox], width=400)\n",
    "accord3.set_title(0, 'BED output')\n",
    "\n",
    "tableBox = widgets.Textarea(description='', width=800,height=400)\n",
    "accord4 = widgets.Accordion(children=[tableBox], width=400)\n",
    "accord4.set_title(0, 'Tabular output')\n",
    "\n",
    "countBox = widgets.Textarea(description='', width=800,height=400)\n",
    "accord5 = widgets.Accordion(children=[countBox], width=400)\n",
    "accord5.set_title(0, 'Counts')\n",
    "\n",
    "display(accord1,accord2,startButton,accord3,accord4,accord5)"
   ]
  },
  {
   "cell_type": "markdown",
   "metadata": {
    "urth": {
     "dashboard": {
      "layout": {
       "col": 0,
       "height": 5,
       "row": 45,
       "width": 9
      }
     }
    }
   },
   "source": [
    "This tool takes a genetic _Sequence_ and looks for patterns which match the given _Motif_. In the motif 'N' character matches any letter in the sequence. User can truncate the displayed matching sequences by setting the _From_ and _Length_ fields.   \n",
    "After pressing the _Start_ button, on the output the truncated matcing sequences, and their positions are listed.  \n",
    "\n",
    "- IUPAC characters, other than ACGT are handled in Motif, but not in Sequence\n",
    "- all lower case characters in the sequence are converted to upper case\n",
    "- all characters except 'A','C','G','T' (including whitespaces and linebreake) will be removed from Sequence\n",
    "- all characters except 'A','C','G','T' and IUPAC characters: RYSWKMBDHV, and 'N' - which matches any base will be removed from Motif\n",
    "- !!! output BED files use 0-based indexing!!! See: https://genome.ucsc.edu/FAQ/FAQformat.html#format1\n",
    "- in the 'Tabular' output, - strand sequences are reverse complemented\n",
    "- additionally, there are 'reference' and 'mutant' sequences. The mutant position(s) are in lower  case (both for ref and mut)\n",
    "- if the mutant section is outside of the cutout, than the original sequence is written out, to keep the column structure (no lowercase letters)\n"
   ]
  },
  {
   "cell_type": "code",
   "execution_count": null,
   "metadata": {
    "collapsed": false
   },
   "outputs": [],
   "source": [
    "rsIdStr = \"\"\n",
    "for id in rsList:\n",
    "    rsIdStr += \"'\" + id + \"',\"\n",
    "rsIdStr = rsIdStr[:-1]\n",
    "#print(rsIdStr)\n",
    "\n",
    "engine = create_engine(\"mysql+pymysql://genome@genome-mysql.cse.ucsc.edu\")\n",
    "query = \"select * from hg19.snp142 WHERE name IN (\" + rsIdStr + \")\"\n",
    "pd.read_sql_query(query, engine)"
   ]
  }
 ],
 "metadata": {
  "hide_input": false,
  "kernelspec": {
   "display_name": "Python 3",
   "language": "python",
   "name": "python3"
  },
  "language_info": {
   "codemirror_mode": {
    "name": "ipython",
    "version": 3
   },
   "file_extension": ".py",
   "mimetype": "text/x-python",
   "name": "python",
   "nbconvert_exporter": "python",
   "pygments_lexer": "ipython3",
   "version": "3.4.2"
  },
  "latex_envs": {
   "bibliofile": "biblio.bib",
   "cite_by": "apalike",
   "current_citInitial": 1,
   "eqLabelWithNumbers": true,
   "eqNumInitial": 0
  },
  "urth": {
   "dashboard": {
    "cellMargin": 10,
    "defaultCellHeight": 20,
    "layoutStrategy": "packed",
    "maxColumns": 12
   }
  }
 },
 "nbformat": 4,
 "nbformat_minor": 0
}
