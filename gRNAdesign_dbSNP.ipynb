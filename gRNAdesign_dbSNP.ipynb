{
 "cells": [
  {
   "cell_type": "markdown",
   "metadata": {
    "urth": {
     "dashboard": {
      "layout": {
       "col": 0,
       "height": 3,
       "row": 0,
       "width": 6
      }
     }
    }
   },
   "source": [
    "# Guide RNA design based on dbSNP rs numbers  "
   ]
  },
  {
   "cell_type": "code",
   "execution_count": 1,
   "metadata": {
    "ExecuteTime": {
     "end_time": "2016-02-24T12:01:52.156733",
     "start_time": "2016-02-24T12:01:52.139501"
    },
    "collapsed": false,
    "scrolled": true,
    "urth": {
     "dashboard": {
      "layout": {
       "col": 0,
       "height": 2,
       "row": 3,
       "width": 6
      }
     }
    }
   },
   "outputs": [
    {
     "data": {
      "text/html": [
       "<script>\n",
       "code_show=true; \n",
       "function code_toggle() {\n",
       " if (code_show){\n",
       " $('div.input').show();\n",
       " } else {\n",
       " $('div.input').hide();\n",
       " }\n",
       " code_show = !code_show\n",
       "} \n",
       "$( document ).ready(code_toggle);\n",
       "</script>\n",
       "<form action=\"javascript:code_toggle()\"><input type=\"submit\" value=\"See usage information at the end! Click here to toggle on/off the raw code. \"></form>"
      ],
      "text/plain": [
       "<IPython.core.display.HTML object>"
      ]
     },
     "execution_count": 1,
     "metadata": {},
     "output_type": "execute_result"
    }
   ],
   "source": [
    "from IPython.core.display import HTML\n",
    "HTML('''\n",
    "<style>\n",
    "    div.prompt {display:none}\n",
    "    div.cell{\n",
    "        width:100%;\n",
    "        margin-left:1%;\n",
    "        margin-right:1%;\n",
    "    }\n",
    "</style>''')\n",
    "\n",
    "# shift code cells\n",
    "HTML('''\n",
    "<style>\n",
    "    div.input{\n",
    "        width:100%;\n",
    "        padding-left:2em;\n",
    "        padding-right:0em;\n",
    "    }\n",
    "</style>''')\n",
    "# code toggle button\n",
    "HTML('''<script>\n",
    "code_show=true; \n",
    "function code_toggle() {\n",
    " if (code_show){\n",
    " $('div.input').show();\n",
    " } else {\n",
    " $('div.input').hide();\n",
    " }\n",
    " code_show = !code_show\n",
    "} \n",
    "$( document ).ready(code_toggle);\n",
    "</script>\n",
    "<form action=\"javascript:code_toggle()\"><input type=\"submit\" value=\"See usage information at the end! Click here to toggle on/off the raw code. \"></form>''')"
   ]
  },
  {
   "cell_type": "code",
   "execution_count": 2,
   "metadata": {
    "collapsed": true
   },
   "outputs": [],
   "source": [
    "from Bio import Seq\n",
    "import re\n",
    "from itertools import product\n",
    "import pandas as pd\n",
    "#  pip3.4  install sqlalchemy --user\n",
    "# pip3.4  install pymysql --user \n",
    "from sqlalchemy import create_engine\n",
    "import requests\n",
    "import xml.etree.ElementTree as ET"
   ]
  },
  {
   "cell_type": "code",
   "execution_count": 3,
   "metadata": {
    "collapsed": true
   },
   "outputs": [],
   "source": [
    "# funcion to extend ambiguous IUPAC letters. This function generates all possible sequences, \n",
    "# expanding the characters defined by the IUPAC standard, expect 'N' (since that would create a huge overhead)\n",
    "def extend_ambiguous_expectN_dna(seq):\n",
    "    \"\"\"return list of all possible sequences given an ambiguous DNA input\"\"\"\n",
    "    d = Seq.IUPAC.IUPACData.ambiguous_dna_values\n",
    "    d['N'] = 'N' # here we exclude expansion of N\n",
    "    r = []\n",
    "    for i in product(*[d[j] for j in seq]):\n",
    "        r.append(\"\".join(i))\n",
    "    return r "
   ]
  },
  {
   "cell_type": "code",
   "execution_count": 4,
   "metadata": {
    "ExecuteTime": {
     "end_time": "2016-02-24T12:16:20.663733",
     "start_time": "2016-02-24T12:16:20.652041"
    },
    "collapsed": false,
    "urth": {
     "dashboard": {}
    }
   },
   "outputs": [],
   "source": [
    "# handle Start button click. Runs the motif match and updates the Results\n",
    "def on_button_clicked(b):\n",
    "    cleanMotif = re.sub(r\"[^ACTGRYSWKMBDHVN]\", '',motif.value.upper())\n",
    "    cleanMotif_rc = str(Seq.Seq(cleanMotif,Seq.IUPAC.ambiguous_dna).reverse_complement())\n",
    "    # the IUPAC letters are allowed, but not matched in Sequence\n",
    "    cleanSequence = re.sub(r\"[^ACTGRYSWKMBDHVN]\", '',sequence.value.upper())\n",
    "    #print(\"Cleaned motif:\",cleanMotif,\"\\n\")\n",
    "    #print(\"Cleaned sequence:\\n\",cleanSequence)\n",
    "    #print(\"\\nMatches found:\\n\")\n",
    "    res = ''\n",
    "    res = res + 'browser position '+str(chrom.value)+':'+str(chrPos.value) +'-' + str(chrPos.value+len(cleanSequence))+'\\n'\n",
    "    res = res + 'browser hide all\\n'\n",
    "    res = res + 'track name=\"ColorByStrandDemo\" description=\"Color by strand demonstration\" '+ 'visibility=2 colorByStrand=\"255,0,0 0,0,255\"\\n'\n",
    "\n",
    "    # forward\n",
    "    i = 1\n",
    "    for iupacMotif in extend_ambiguous_expectN_dna(cleanMotif):\n",
    "        regexMotif = re.sub(r\"N\", '.',iupacMotif)\n",
    "        #for match in re.finditer(regexMotif, cleanSequence): # finds only non-overlapping matches\n",
    "        for match in re.finditer(r'(?=('+regexMotif+'))', cleanSequence):\n",
    "            mm = match.group(1)\n",
    "            # we need only certain part of the matched sequence, defined by outStart and outLength (0 based indexing)\n",
    "            idx1 = outStart.value - 1\n",
    "            idx2 = idx1 + outLength.value\n",
    "            #print(match.start()+idx1,mm[idx1:idx2], mm)\n",
    "            res = res +  chrom.value + '\\t' + str(chrPos.value+match.start()+idx1) + '\\t' + str(chrPos.value+match.start()+idx2-1) + '\\t' + 'gRNA_' + str(i) + '_' + str(mm[idx1:idx2]) + '\\t0\\t+\\n'\n",
    "            #res = res + str(match.start()+idx1+1) +' ' + str(mm[idx1:idx2]) + '+\\n'\n",
    "            i = i+1\n",
    "\n",
    "    # reverse complement\n",
    "    i = 1\n",
    "    for iupacMotif_rc in extend_ambiguous_expectN_dna(cleanMotif_rc):\n",
    "        regexMotif_rc =  re.sub(r\"N\", '.',iupacMotif_rc)\n",
    "        #for match in re.finditer(regexMotif_rc, cleanSequence): # finds only non-overlapping matches\n",
    "        for match in re.finditer(r'(?=('+regexMotif_rc+'))', cleanSequence):\n",
    "            mm = match.group(1)\n",
    "            # we need only certain part of the matched sequence, defined by outStart and outLength (0 based indexing)\n",
    "            idx2 = len(regexMotif_rc) - (outStart.value - 1)\n",
    "            idx1 = len(regexMotif_rc) - (outStart.value - 1 + outLength.value)\n",
    "            #print(match.start()+idx1,mm[idx1:idx2], mm)\n",
    "            res = res +  chrom.value + '\\t' + str(chrPos.value+match.start()+idx1) + '\\t' + str(chrPos.value+match.start()+idx2-1) + '\\t' + 'gRNArc_' + str(i) + '_' + str(mm[idx1:idx2]) + '\\t0\\t-\\n'\n",
    "            #res = res + str(match.start()+idx1+1) +' ' + str(mm[idx1:idx2]) + '-\\n'\n",
    "            i = i+1\n",
    "\n",
    "    resultBox.value = res\n",
    "    resultBox.update_config\n",
    "    \n",
    "def handle_motifDropDown(m):\n",
    "    idx = motifDropDown.value\n",
    "    patterns = ['GNNNNNNNNNNNNNNNNNNNNGG','GNNNNNNNNNNNNNNNNNNNNNNNNGRRT','TTTNNNNNNNNNNNNNNNNNNNN']\n",
    "    startPos = [1,1,5]\n",
    "    seqLen = [20,23,19] \n",
    "    motif.value = patterns[idx]\n",
    "    outStart.value = startPos[idx]\n",
    "    outLength.value = seqLen[idx]\n",
    "    motif.update_config\n",
    "    outStart.update_config\n",
    "    outLength.update_config\n",
    "    return"
   ]
  },
  {
   "cell_type": "code",
   "execution_count": 5,
   "metadata": {
    "collapsed": false
   },
   "outputs": [],
   "source": [
    "# handle getRsPosButton button click. Get genomic position from UCSC based on dbSNP rs number\n",
    "def getDbSnpPosition(b):\n",
    "    engine = create_engine(\"mysql+pymysql://genome@genome-mysql.cse.ucsc.edu\")\n",
    "\n",
    "    # UCSC dbSNP table schema: http://ucscbrowser.genap.ca/cgi-bin/hgTables?db=hg38&hgta_group=varRep&hgta_track=snp142Common&hgta_table=snp142Common&hgta_doSchema=describe+table+schema\n",
    "\n",
    "    query = \"select chrom, chromStart, chromEnd, name from hg38.snp142 WHERE name = '\" + rsID.value + \"'\"\n",
    "    dbSNP_data =  pd.read_sql_query(query, engine)\n",
    "    chromRS.value = dbSNP_data.ix[0,0] # dbSNP_data['chrom']\n",
    "    chromRSStart.value = dbSNP_data.ix[0,1] #dbSNP_data['chromStart']\n",
    "    chromRSEnd.value = dbSNP_data.ix[0,2] #dbSNP_data['chromEnd']\n",
    "    chromRS.update_config\n",
    "    chromRSStart.update_config\n",
    "    chromRSEnd.update_config"
   ]
  },
  {
   "cell_type": "code",
   "execution_count": 6,
   "metadata": {
    "collapsed": false
   },
   "outputs": [],
   "source": [
    "# handle getSequence button click. Get sequence from UCSC based on genomic coordinates of the SNP\n",
    "# Downloads +/- 'window' nucleotides around the chromRSStart position\n",
    "def getSequenceFromUCSC(b):\n",
    "    if chromRS.value.find('chr') == -1:\n",
    "        sequence.value = 'Invalid dbSNP position! Run the above cell first!'\n",
    "        sequence.update_config\n",
    "        return\n",
    "    else:\n",
    "        # http://genome.ucsc.edu/cgi-bin/das/hg19/dna?segment=chr1:100000,200000\n",
    "        genomeVersion = str(dbSNPname.value).split('.')[0]\n",
    "        windowLen = seqWindow.value \n",
    "        url = 'http://genome.ucsc.edu/cgi-bin/das/' + genomeVersion \\\n",
    "            + '/dna?segment=' + str(chromRS.value) + ':' + str(chromRSStart.value-windowLen) + ',' \\\n",
    "            + str(chromRSStart.value+windowLen)\n",
    "        response = requests.get(url)\n",
    "        SeqXml = ET.fromstring(response.text)\n",
    "        SeqText = SeqXml.find('SEQUENCE').find('DNA').text\n",
    "        sequence.value = re.sub(r\"[^ACTGRYSWKMBDHVN]\", '',SeqText.upper())\n",
    "        sequence.update_config\n",
    "        # update also the reference coordinates to be used for generating BED\n",
    "        chrom.value = chromRS.value\n",
    "        chrPos.value = chromRSStart.value-windowLen\n",
    "        chrom.update_config\n",
    "        chrPos.update_config\n",
    "        return"
   ]
  },
  {
   "cell_type": "code",
   "execution_count": 7,
   "metadata": {
    "ExecuteTime": {
     "end_time": "2016-02-24T12:20:10.819858",
     "start_time": "2016-02-24T12:20:10.736432"
    },
    "code_folding": [],
    "collapsed": false,
    "scrolled": true,
    "urth": {
     "dashboard": {
      "layout": {
       "col": 0,
       "height": 40,
       "row": 5,
       "width": 9
      }
     }
    }
   },
   "outputs": [],
   "source": [
    "#%matplotlib inline\n",
    "#import pandas as pd  \n",
    "#import matplotlib.pyplot as plt  \n",
    "from ipywidgets import *  \n",
    "from IPython.display import display  \n",
    "\n",
    "# ------ Motif\n",
    "\n",
    "#legordulo menu (nev + altalanos keplet)\n",
    "#1. SpCas9 - G-N(19)-NGG\n",
    "#2. SaCas9 G-N(22)-NNGRRT\n",
    "#3. AsCpf1 - TTTN-N(19)\n",
    "\n",
    "#box (szekvencia + tol-ig)\n",
    "#1. GNNNNNNNNNNNNNNNNNNNNGG (1-20)\n",
    "#2. GNNNNNNNNNNNNNNNNNNNNNNNNGRRT (1-23)\n",
    "#3. TTTNNNNNNNNNNNNNNNNNNNN (5-23)\n",
    "\n",
    "motifDropDown = widgets.Dropdown(\n",
    "    options={'SpCas9: G-N(19)-NGG': 0, 'SaCas9: G-N(22)-NNGRRT': 1, 'AsCpf1: TTTN-N(19)': 2},\n",
    "    value=0,\n",
    "    description='Motif:',\n",
    ")\n",
    "motifDropDown.on_trait_change(handle_motifDropDown)\n",
    "\n",
    "motif = widgets.Text(description='pattern:', value='GNNNNNNNNNNNNNNNNNNNNGG',width='400px')\n",
    "\n",
    "#TODO: use: max=len(motif.value), but it is not updated when motif is changed \n",
    "outStart = widgets.BoundedIntText(description='From:', min=1, max=999999, value=1,width='40px')\n",
    "outLength = widgets.BoundedIntText(description='Length:', min=1, max=999999, value=20,width='40px')\n",
    "chrom = widgets.Text(description='Chr:',width='60px')\n",
    "chrPos = widgets.BoundedIntText(description='ChrStart:', min=0, max=999999999, width='90px')\n",
    "\n",
    "startButton = widgets.Button(description='Start', \n",
    "                             width='100px',height='40px', border_width=10, border_radius = 15, margin=10)\n",
    "startButton.on_click(on_button_clicked) \n",
    "startButton.background_color = \"cornflowerblue\"\n",
    "startButton.background_color = \"cornflowerblue\"\n",
    "startButton.button_style = 'Info'\n",
    "startButton.font_weight = 'bold'\n",
    "startButton.font_size = '14pt'\n",
    "# --------\n",
    "\n",
    "\n",
    "# ------------\n",
    "# Genomic coordinates from RS number\n",
    "chromRS = widgets.Text(description='Chr:',width='60px')\n",
    "chromRSStart = widgets.BoundedIntText(description='Start:', min=0, max=999999999, width='90px')\n",
    "chromRSEnd = widgets.BoundedIntText(description='End:', min=0, max=999999999,  width='90px')\n",
    "rsID = widgets.Text(description='rs number:', value='rs339331',width='200px', margin=8)\n",
    "dbSNPname = widgets.Text(description='dbSNP version:', value='hg38.snp142',width='100px', margin=8)\n",
    "getRsPosButton = widgets.Button(description='Get SNP position', \n",
    "                             width='200px',height='40px', border_radius = 15)\n",
    "getRsPosButton.on_click(getDbSnpPosition) \n",
    "getRsPosButton.background_color = \"cornflowerblue\"\n",
    "getRsPosButton.background_color = \"cornflowerblue\"\n",
    "getRsPosButton.button_style = 'Info'\n",
    "getRsPosButton.font_weight = 'bold'\n",
    "getRsPosButton.font_size = '14pt'\n",
    "\n",
    "pageRS = widgets.Box(children=[widgets.HBox(children=[rsID,dbSNPname,getRsPosButton]),widgets.HBox(children=[chromRS,chromRSStart,chromRSEnd])])\n",
    "#chrom,chrPos\n",
    "accordRS = widgets.Accordion(children=[pageRS], width=800)\n",
    "accordRS.set_title(0, 'Genomic position based on dbSNP rs name')\n",
    "# ------------\n",
    "\n",
    "\n",
    "page0 = widgets.Box(children=[widgets.HBox(children=[motifDropDown, motif,outStart,outLength],margin=8),widgets.HBox(children=[chrom,chrPos],margin=8)])\n",
    "#chrom,chrPos\n",
    "accord0 = widgets.Accordion(children=[page0], width=800)\n",
    "accord0.set_title(0, 'Motif')\n",
    "\n",
    "# ------------\n",
    "sequence = widgets.Textarea(description='', width=800,height=400)\n",
    "seqWindow = widgets.BoundedIntText(description='+/- window size:', min=1, max=999999, value=20,width='60px', margin=8)\n",
    "getSeq = widgets.Button(description='Get sequence', \n",
    "                             width='200px',height='40px', border_radius = 15)\n",
    "getSeq.on_click(getSequenceFromUCSC) \n",
    "getSeq.background_color = \"cornflowerblue\"\n",
    "getSeq.background_color = \"cornflowerblue\"\n",
    "getSeq.button_style = 'Info'\n",
    "getSeq.font_weight = 'bold'\n",
    "getSeq.font_size = '14pt'\n",
    "page1 = widgets.Box(children=[widgets.HBox(children=[seqWindow,getSeq]),sequence])\n",
    "accord1 = widgets.Accordion(children=[page1], width=400)\n",
    "accord1.set_title(0, 'Sequence around SNP position')\n",
    "# ------------\n",
    "\n",
    "resultBox = widgets.Textarea(description='', width=800,height=400)\n",
    "accord2 = widgets.Accordion(children=[resultBox], width=400)\n",
    "accord2.set_title(0, 'Results')\n",
    "\n",
    "display(accordRS,accord1,accord0,startButton,accord2)\n",
    "\n"
   ]
  },
  {
   "cell_type": "markdown",
   "metadata": {
    "urth": {
     "dashboard": {
      "layout": {
       "col": 0,
       "height": 5,
       "row": 45,
       "width": 9
      }
     }
    }
   },
   "source": [
    "This tool takes a genetic _Sequence_ and looks for patterns which match the given _Motif_. In the motif 'N' character matches any letter in the sequence. User can truncate the displayed matching sequences by setting the _From_ and _Length_ fields.   \n",
    "After pressing the _Start_ button, on the output the truncated matcing sequences, and their positions are listed.  \n",
    "\n",
    "- IUPAC characters, other than ACGT are handled in Motif, but not in Sequence\n",
    "- all lower case characters in the sequence are converted to upper case\n",
    "- all characters except 'A','C','G','T' (including whitespaces and linebreake) will be removed from Sequence\n",
    "- all characters except 'A','C','G','T' and IUPAC characters: RYSWKMBDHV, and 'N' - which matches any base will be removed from Motif\n",
    "- !!! output BED files use 0-based indexing!!! See: https://genome.ucsc.edu/FAQ/FAQformat.html#format1\n"
   ]
  }
 ],
 "metadata": {
  "hide_input": false,
  "kernelspec": {
   "display_name": "Python 3",
   "language": "python",
   "name": "python3"
  },
  "language_info": {
   "codemirror_mode": {
    "name": "ipython",
    "version": 3
   },
   "file_extension": ".py",
   "mimetype": "text/x-python",
   "name": "python",
   "nbconvert_exporter": "python",
   "pygments_lexer": "ipython3",
   "version": "3.4.2"
  },
  "latex_envs": {
   "bibliofile": "biblio.bib",
   "cite_by": "apalike",
   "current_citInitial": 1,
   "eqLabelWithNumbers": true,
   "eqNumInitial": 0
  },
  "urth": {
   "dashboard": {
    "cellMargin": 10,
    "defaultCellHeight": 20,
    "layoutStrategy": "packed",
    "maxColumns": 12
   }
  }
 },
 "nbformat": 4,
 "nbformat_minor": 0
}
