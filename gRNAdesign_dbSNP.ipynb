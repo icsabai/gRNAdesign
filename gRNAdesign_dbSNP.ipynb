{
 "cells": [
  {
   "cell_type": "markdown",
   "metadata": {
    "extensions": {
     "jupyter_dashboards": {
      "version": 1,
      "views": {
       "grid_default": {
        "col": 0,
        "height": 3,
        "hidden": false,
        "row": 0,
        "width": 6
       },
       "report_default": {
        "hidden": false
       }
      }
     }
    }
   },
   "source": [
    "# Guide RNA design based on dbSNP rs numbers  "
   ]
  },
  {
   "cell_type": "code",
   "execution_count": 1,
   "metadata": {
    "ExecuteTime": {
     "end_time": "2016-02-24T12:01:52.156733",
     "start_time": "2016-02-24T12:01:52.139501"
    },
    "collapsed": false,
    "extensions": {
     "jupyter_dashboards": {
      "version": 1,
      "views": {
       "grid_default": {
        "col": 0,
        "height": 2,
        "hidden": false,
        "row": 3,
        "width": 6
       },
       "report_default": {
        "hidden": false
       }
      }
     }
    },
    "scrolled": true
   },
   "outputs": [
    {
     "data": {
      "text/html": [
       "<script>\n",
       "code_show=true; \n",
       "function code_toggle() {\n",
       " if (code_show){\n",
       " $('div.input').show();\n",
       " } else {\n",
       " $('div.input').hide();\n",
       " }\n",
       " code_show = !code_show\n",
       "} \n",
       "$( document ).ready(code_toggle);\n",
       "</script>\n",
       "<form action=\"javascript:code_toggle()\"><input type=\"submit\" value=\"See usage information at the end! Click here to toggle on/off the raw code. \"></form>"
      ],
      "text/plain": [
       "<IPython.core.display.HTML object>"
      ]
     },
     "execution_count": 1,
     "metadata": {},
     "output_type": "execute_result"
    }
   ],
   "source": [
    "from IPython.core.display import HTML\n",
    "HTML('''\n",
    "<style>\n",
    "    div.prompt {display:none}\n",
    "    div.cell{\n",
    "        width:100%;\n",
    "        margin-left:1%;\n",
    "        margin-right:1%;\n",
    "    }\n",
    "</style>''')\n",
    "\n",
    "# shift code cells\n",
    "HTML('''\n",
    "<style>\n",
    "    div.input{\n",
    "        width:100%;\n",
    "        padding-left:2em;\n",
    "        padding-right:0em;\n",
    "    }\n",
    "</style>''')\n",
    "# code toggle button\n",
    "HTML('''<script>\n",
    "code_show=true; \n",
    "function code_toggle() {\n",
    " if (code_show){\n",
    " $('div.input').show();\n",
    " } else {\n",
    " $('div.input').hide();\n",
    " }\n",
    " code_show = !code_show\n",
    "} \n",
    "$( document ).ready(code_toggle);\n",
    "</script>\n",
    "<form action=\"javascript:code_toggle()\"><input type=\"submit\" value=\"See usage information at the end! Click here to toggle on/off the raw code. \"></form>''')"
   ]
  },
  {
   "cell_type": "code",
   "execution_count": 2,
   "metadata": {
    "collapsed": true,
    "extensions": {
     "jupyter_dashboards": {
      "version": 1,
      "views": {
       "grid_default": {},
       "report_default": {}
      }
     }
    }
   },
   "outputs": [],
   "source": [
    "from Bio import Seq\n",
    "import re\n",
    "from itertools import product\n",
    "import pandas as pd\n",
    "#  pip3.4  install sqlalchemy --user\n",
    "# pip3.4  install pymysql --user \n",
    "from sqlalchemy import create_engine\n",
    "import requests\n",
    "import xml.etree.ElementTree as ET"
   ]
  },
  {
   "cell_type": "code",
   "execution_count": 3,
   "metadata": {
    "collapsed": true,
    "extensions": {
     "jupyter_dashboards": {
      "version": 1,
      "views": {
       "grid_default": {},
       "report_default": {}
      }
     }
    }
   },
   "outputs": [],
   "source": [
    "# funcion to extend ambiguous IUPAC letters. This function generates all possible sequences, \n",
    "# expanding the characters defined by the IUPAC standard, expect 'N' (since that would create a huge overhead)\n",
    "def extend_ambiguous_expectN_dna(seq):\n",
    "    \"\"\"return list of all possible sequences given an ambiguous DNA input\"\"\"\n",
    "    d = Seq.IUPAC.IUPACData.ambiguous_dna_values\n",
    "    d['N'] = 'N' # here we exclude expansion of N\n",
    "    r = []\n",
    "    for i in product(*[d[j] for j in seq]):\n",
    "        r.append(\"\".join(i))\n",
    "    return r "
   ]
  },
  {
   "cell_type": "code",
   "execution_count": 4,
   "metadata": {
    "ExecuteTime": {
     "end_time": "2016-02-24T12:16:20.663733",
     "start_time": "2016-02-24T12:16:20.652041"
    },
    "collapsed": false,
    "extensions": {
     "jupyter_dashboards": {
      "version": 1,
      "views": {
       "grid_default": {
        "hidden": true
       },
       "report_default": {
        "hidden": false
       }
      }
     }
    }
   },
   "outputs": [],
   "source": [
    "# handle Start button click. Runs the motif match and updates the Results\n",
    "def on_button_clicked(b):\n",
    "    cleanMotif = re.sub(r\"[^ACTGRYSWKMBDHVN]\", '',motif.value.upper())\n",
    "    cleanMotif_rc = str(Seq.Seq(cleanMotif,Seq.IUPAC.ambiguous_dna).reverse_complement())\n",
    "    # the IUPAC letters are allowed, but not matched in Sequence\n",
    "    cleanSequence = re.sub(r\"[^ACTGRYSWKMBDHVN]\", '',sequence.value.upper())\n",
    "    #print(\"Cleaned motif:\",cleanMotif,\"\\n\")\n",
    "    #print(\"Cleaned sequence:\\n\",cleanSequence)\n",
    "    #print(\"\\nMatches found:\\n\")\n",
    "    res = ''\n",
    "    res = res + 'browser position '+str(chrom.value)+':'+str(chrPos.value) +'-' + str(chrPos.value+len(cleanSequence))+'\\n'\n",
    "    res = res + 'browser hide all\\n'\n",
    "    res = res + 'track name=\"ColorByStrandDemo\" description=\"Color by strand demonstration\" '+ 'visibility=2 colorByStrand=\"255,0,0 0,0,255\"\\n'\n",
    "\n",
    "    # forward\n",
    "    i = 1\n",
    "    for iupacMotif in extend_ambiguous_expectN_dna(cleanMotif):\n",
    "        regexMotif = re.sub(r\"N\", '.',iupacMotif)\n",
    "        #for match in re.finditer(regexMotif, cleanSequence): # finds only non-overlapping matches\n",
    "        for match in re.finditer(r'(?=('+regexMotif+'))', cleanSequence):\n",
    "            mm = match.group(1)\n",
    "            # we need only certain part of the matched sequence, defined by outStart and outLength (0 based indexing)\n",
    "            idx1 = outStart.value - 1\n",
    "            idx2 = idx1 + outLength.value\n",
    "            #print(match.start()+idx1,mm[idx1:idx2], mm)\n",
    "            res = res +  chrom.value + '\\t' + str(chrPos.value+match.start()+idx1) + '\\t' + str(chrPos.value+match.start()+idx2-1) + '\\t' + 'gRNA_' + str(i) + '_' + str(mm[idx1:idx2]) + '\\t0\\t+\\n'\n",
    "            #res = res + str(match.start()+idx1+1) +' ' + str(mm[idx1:idx2]) + '+\\n'\n",
    "            i = i+1\n",
    "\n",
    "    # reverse complement\n",
    "    i = 1\n",
    "    for iupacMotif_rc in extend_ambiguous_expectN_dna(cleanMotif_rc):\n",
    "        regexMotif_rc =  re.sub(r\"N\", '.',iupacMotif_rc)\n",
    "        #for match in re.finditer(regexMotif_rc, cleanSequence): # finds only non-overlapping matches\n",
    "        for match in re.finditer(r'(?=('+regexMotif_rc+'))', cleanSequence):\n",
    "            mm = match.group(1)\n",
    "            # we need only certain part of the matched sequence, defined by outStart and outLength (0 based indexing)\n",
    "            idx2 = len(regexMotif_rc) - (outStart.value - 1)\n",
    "            idx1 = len(regexMotif_rc) - (outStart.value - 1 + outLength.value)\n",
    "            #print(match.start()+idx1,mm[idx1:idx2], mm)\n",
    "            res = res +  chrom.value + '\\t' + str(chrPos.value+match.start()+idx1) + '\\t' + str(chrPos.value+match.start()+idx2-1) + '\\t' + 'gRNArc_' + str(i) + '_' + str(mm[idx1:idx2]) + '\\t0\\t-\\n'\n",
    "            #res = res + str(match.start()+idx1+1) +' ' + str(mm[idx1:idx2]) + '-\\n'\n",
    "            i = i+1\n",
    "\n",
    "    resultBox.value = res\n",
    "    resultBox.update_config\n",
    "    \n",
    "def handle_motifDropDown(m):\n",
    "    idx = motifDropDown.value\n",
    "    patterns = ['GNNNNNNNNNNNNNNNNNNNNGG','GNNNNNNNNNNNNNNNNNNNNNNNNGRRT','TTTNNNNNNNNNNNNNNNNNNNN']\n",
    "    startPos = [1,1,5]\n",
    "    seqLen = [20,23,19] \n",
    "    motif.value = patterns[idx]\n",
    "    outStart.value = startPos[idx]\n",
    "    outLength.value = seqLen[idx]\n",
    "    motif.update_config\n",
    "    outStart.update_config\n",
    "    outLength.update_config\n",
    "    return"
   ]
  },
  {
   "cell_type": "code",
   "execution_count": 5,
   "metadata": {
    "collapsed": false,
    "extensions": {
     "jupyter_dashboards": {
      "version": 1,
      "views": {
       "grid_default": {},
       "report_default": {}
      }
     }
    }
   },
   "outputs": [],
   "source": [
    "# handle getRsPosButton button click. Get genomic position from UCSC based on dbSNP rs number\n",
    "def getDbSnpPosition(b):\n",
    "    engine = create_engine(\"mysql+pymysql://genome@genome-mysql.cse.ucsc.edu\")\n",
    "\n",
    "    # UCSC dbSNP table schema: http://ucscbrowser.genap.ca/cgi-bin/hgTables?db=hg38&hgta_group=varRep&hgta_track=snp142Common&hgta_table=snp142Common&hgta_doSchema=describe+table+schema\n",
    "\n",
    "    query = \"select chrom, chromStart, chromEnd, name from hg38.snp142 WHERE name = '\" + rsID.value + \"'\"\n",
    "    dbSNP_data =  pd.read_sql_query(query, engine)\n",
    "    chromRS.value = dbSNP_data.ix[0,0] # dbSNP_data['chrom']\n",
    "    chromRSStart.value = dbSNP_data.ix[0,1] #dbSNP_data['chromStart']\n",
    "    chromRSEnd.value = dbSNP_data.ix[0,2] #dbSNP_data['chromEnd']\n",
    "    chromRS.update_config\n",
    "    chromRSStart.update_config\n",
    "    chromRSEnd.update_config"
   ]
  },
  {
   "cell_type": "code",
   "execution_count": 6,
   "metadata": {
    "collapsed": false,
    "extensions": {
     "jupyter_dashboards": {
      "version": 1,
      "views": {
       "grid_default": {},
       "report_default": {}
      }
     }
    }
   },
   "outputs": [],
   "source": [
    "# handle getSequence button click. Get sequence from UCSC based on genomic coordinates of the SNP\n",
    "# Downloads +/- 'window' nucleotides around the chromRSStart position\n",
    "def getSequenceFromUCSC(b):\n",
    "    if chromRS.value.find('chr') == -1:\n",
    "        sequence.value = 'Invalid dbSNP position! Run the above cell first!'\n",
    "        sequence.update_config\n",
    "        return\n",
    "    else:\n",
    "        # http://genome.ucsc.edu/cgi-bin/das/hg19/dna?segment=chr1:100000,200000\n",
    "        genomeVersion = str(dbSNPname.value).split('.')[0]\n",
    "        windowLen = seqWindow.value \n",
    "        url = 'http://genome.ucsc.edu/cgi-bin/das/' + genomeVersion \\\n",
    "            + '/dna?segment=' + str(chromRS.value) + ':' + str(chromRSStart.value-windowLen) + ',' \\\n",
    "            + str(chromRSStart.value+windowLen)\n",
    "        response = requests.get(url)\n",
    "        SeqXml = ET.fromstring(response.text)\n",
    "        SeqText = SeqXml.find('SEQUENCE').find('DNA').text\n",
    "        sequence.value = re.sub(r\"[^ACTGRYSWKMBDHVN]\", '',SeqText.upper())\n",
    "        sequence.update_config\n",
    "        # update also the reference coordinates to be used for generating BED\n",
    "        chrom.value = chromRS.value\n",
    "        chrPos.value = chromRSStart.value-windowLen\n",
    "        chrom.update_config\n",
    "        chrPos.update_config\n",
    "        return"
   ]
  },
  {
   "cell_type": "code",
   "execution_count": 7,
   "metadata": {
    "ExecuteTime": {
     "end_time": "2016-02-24T12:20:10.819858",
     "start_time": "2016-02-24T12:20:10.736432"
    },
    "code_folding": [],
    "collapsed": false,
    "extensions": {
     "jupyter_dashboards": {
      "version": 1,
      "views": {
       "grid_default": {
        "col": 0,
        "height": 40,
        "hidden": false,
        "row": 5,
        "width": 9
       },
       "report_default": {
        "hidden": false
       }
      }
     }
    },
    "scrolled": true
   },
   "outputs": [
    {
     "name": "stderr",
     "output_type": "stream",
     "text": [
      "/usr/local/lib/python3.4/dist-packages/ipykernel/__main__.py:24: DeprecationWarning: on_trait_change is deprecated: use observe instead\n"
     ]
    }
   ],
   "source": [
    "#%matplotlib inline\n",
    "#import pandas as pd  \n",
    "#import matplotlib.pyplot as plt  \n",
    "from ipywidgets import *  \n",
    "from IPython.display import display  \n",
    "\n",
    "# ------ Motif\n",
    "\n",
    "#legordulo menu (nev + altalanos keplet)\n",
    "#1. SpCas9 - G-N(19)-NGG\n",
    "#2. SaCas9 G-N(22)-NNGRRT\n",
    "#3. AsCpf1 - TTTN-N(19)\n",
    "\n",
    "#box (szekvencia + tol-ig)\n",
    "#1. GNNNNNNNNNNNNNNNNNNNNGG (1-20)\n",
    "#2. GNNNNNNNNNNNNNNNNNNNNNNNNGRRT (1-23)\n",
    "#3. TTTNNNNNNNNNNNNNNNNNNNN (5-23)\n",
    "\n",
    "motifDropDown = widgets.Dropdown(\n",
    "    options={'SpCas9: G-N(19)-NGG': 0, 'SaCas9: G-N(22)-NNGRRT': 1, 'AsCpf1: TTTN-N(19)': 2},\n",
    "    value=0,\n",
    "    description='Motif:',\n",
    ")\n",
    "motifDropDown.on_trait_change(handle_motifDropDown)\n",
    "\n",
    "motif = widgets.Text(description='pattern:', value='GNNNNNNNNNNNNNNNNNNNNGG',width='400px')\n",
    "\n",
    "#TODO: use: max=len(motif.value), but it is not updated when motif is changed \n",
    "outStart = widgets.BoundedIntText(description='From:', min=1, max=999999, value=1,width='40px')\n",
    "outLength = widgets.BoundedIntText(description='Length:', min=1, max=999999, value=20,width='40px')\n",
    "chrom = widgets.Text(description='Chr:',width='60px')\n",
    "chrPos = widgets.BoundedIntText(description='ChrStart:', min=0, max=999999999, width='90px')\n",
    "\n",
    "startButton = widgets.Button(description='Start', \n",
    "                             width='100px',height='40px', border_width=10, border_radius = 15, margin=10)\n",
    "startButton.on_click(on_button_clicked) \n",
    "startButton.background_color = \"cornflowerblue\"\n",
    "startButton.background_color = \"cornflowerblue\"\n",
    "startButton.button_style = 'Info'\n",
    "startButton.font_weight = 'bold'\n",
    "startButton.font_size = '14pt'\n",
    "# --------\n",
    "\n",
    "\n",
    "# ------------\n",
    "# Genomic coordinates from RS number\n",
    "chromRS = widgets.Text(description='Chr:',width='60px')\n",
    "chromRSStart = widgets.BoundedIntText(description='Start:', min=0, max=999999999, width='90px')\n",
    "chromRSEnd = widgets.BoundedIntText(description='End:', min=0, max=999999999,  width='90px')\n",
    "rsID = widgets.Text(description='rs number:', value='rs339331',width='200px', margin=8)\n",
    "dbSNPname = widgets.Text(description='dbSNP version:', value='hg38.snp142',width='100px', margin=8)\n",
    "getRsPosButton = widgets.Button(description='Get SNP position', \n",
    "                             width='200px',height='40px', border_radius = 15)\n",
    "getRsPosButton.on_click(getDbSnpPosition) \n",
    "getRsPosButton.background_color = \"cornflowerblue\"\n",
    "getRsPosButton.background_color = \"cornflowerblue\"\n",
    "getRsPosButton.button_style = 'Info'\n",
    "getRsPosButton.font_weight = 'bold'\n",
    "getRsPosButton.font_size = '14pt'\n",
    "\n",
    "pageRS = widgets.Box(children=[widgets.HBox(children=[rsID,dbSNPname,getRsPosButton]),widgets.HBox(children=[chromRS,chromRSStart,chromRSEnd])])\n",
    "#chrom,chrPos\n",
    "accordRS = widgets.Accordion(children=[pageRS], width=800)\n",
    "accordRS.set_title(0, 'Genomic position based on dbSNP rs name')\n",
    "# ------------\n",
    "\n",
    "\n",
    "page0 = widgets.Box(children=[widgets.HBox(children=[motifDropDown, motif,outStart,outLength],margin=8),widgets.HBox(children=[chrom,chrPos],margin=8)])\n",
    "#chrom,chrPos\n",
    "accord0 = widgets.Accordion(children=[page0], width=800)\n",
    "accord0.set_title(0, 'Motif')\n",
    "\n",
    "# ------------\n",
    "sequence = widgets.Textarea(description='', width=800,height=400)\n",
    "seqWindow = widgets.BoundedIntText(description='+/- window size:', min=1, max=999999, value=20,width='60px', margin=8)\n",
    "getSeq = widgets.Button(description='Get sequence', \n",
    "                             width='200px',height='40px', border_radius = 15)\n",
    "getSeq.on_click(getSequenceFromUCSC) \n",
    "getSeq.background_color = \"cornflowerblue\"\n",
    "getSeq.background_color = \"cornflowerblue\"\n",
    "getSeq.button_style = 'Info'\n",
    "getSeq.font_weight = 'bold'\n",
    "getSeq.font_size = '14pt'\n",
    "page1 = widgets.Box(children=[widgets.HBox(children=[seqWindow,getSeq]),sequence])\n",
    "accord1 = widgets.Accordion(children=[page1], width=400)\n",
    "accord1.set_title(0, 'Sequence around SNP position')\n",
    "# ------------\n",
    "\n",
    "resultBox = widgets.Textarea(description='', width=800,height=400)\n",
    "accord2 = widgets.Accordion(children=[resultBox], width=400)\n",
    "accord2.set_title(0, 'Results')\n",
    "\n",
    "display(accordRS,accord1,accord0,startButton,accord2)\n",
    "\n"
   ]
  },
  {
   "cell_type": "markdown",
   "metadata": {
    "extensions": {
     "jupyter_dashboards": {
      "version": 1,
      "views": {
       "grid_default": {
        "col": 0,
        "height": 5,
        "hidden": false,
        "row": 45,
        "width": 9
       },
       "report_default": {
        "hidden": false
       }
      }
     }
    }
   },
   "source": [
    "This tool takes a genetic _Sequence_ and looks for patterns which match the given _Motif_. In the motif 'N' character matches any letter in the sequence. User can truncate the displayed matching sequences by setting the _From_ and _Length_ fields.   \n",
    "After pressing the _Start_ button, on the output the truncated matcing sequences, and their positions are listed.  \n",
    "\n",
    "- IUPAC characters, other than ACGT are handled in Motif, but not in Sequence\n",
    "- all lower case characters in the sequence are converted to upper case\n",
    "- all characters except 'A','C','G','T' (including whitespaces and linebreake) will be removed from Sequence\n",
    "- all characters except 'A','C','G','T' and IUPAC characters: RYSWKMBDHV, and 'N' - which matches any base will be removed from Motif\n",
    "- !!! output BED files use 0-based indexing!!! See: https://genome.ucsc.edu/FAQ/FAQformat.html#format1\n"
   ]
  }
 ],
 "metadata": {
  "extensions": {
   "jupyter_dashboards": {
    "activeView": "grid_default",
    "version": 1,
    "views": {
     "grid_default": {
      "cellMargin": 10,
      "defaultCellHeight": 20,
      "layoutStrategy": "packed",
      "maxColumns": 12,
      "name": "grid",
      "type": "grid"
     },
     "report_default": {
      "name": "report",
      "type": "report"
     }
    }
   }
  },
  "hide_input": false,
  "kernelspec": {
   "display_name": "Python 3",
   "language": "python",
   "name": "python3"
  },
  "language_info": {
   "codemirror_mode": {
    "name": "ipython",
    "version": 3
   },
   "file_extension": ".py",
   "mimetype": "text/x-python",
   "name": "python",
   "nbconvert_exporter": "python",
   "pygments_lexer": "ipython3",
   "version": "3.4.2"
  },
  "latex_envs": {
   "bibliofile": "biblio.bib",
   "cite_by": "apalike",
   "current_citInitial": 1,
   "eqLabelWithNumbers": true,
   "eqNumInitial": 0
  },
  "widgets": {
   "state": {
    "006985d624ec417cad21798e49ce9fbc": {
     "views": []
    },
    "00fa6e8dee1042a7ab0eb8ecaa6aacb8": {
     "views": []
    },
    "01c17c9c9f374a27b2853ee79d36f46a": {
     "views": []
    },
    "0b7bf212f26f4e8ca164b30891503fe5": {
     "views": []
    },
    "177b63f032ec489c8f2db53e408b227a": {
     "views": [
      {
       "cell_index": 7
      }
     ]
    },
    "199e03b08e2c44c5ba222f1a8854b21f": {
     "views": []
    },
    "1a602747e4b848578e29481afdb9c26e": {
     "views": []
    },
    "1ae6a97a5df0471fa3236c766731a922": {
     "views": []
    },
    "1b0906fe3eab47cd9af42b82df8c9b25": {
     "views": []
    },
    "1cea820dcebe4f63889a9b774d39503f": {
     "views": []
    },
    "1d9222b948be46cbbc6a87a649ded9d6": {
     "views": []
    },
    "211a57b3c3fb4dc0b9cf831941abf387": {
     "views": []
    },
    "246fec53a91f49efa7b3e6f3be07d3a5": {
     "views": []
    },
    "24ae0b786d174377b8d3b82ad922be65": {
     "views": []
    },
    "25e0a02ee02a4dc0802291093cc80996": {
     "views": []
    },
    "2647d32e4ba441b18f078c0254045b5b": {
     "views": []
    },
    "26de2ddaa1d440fba4d3d3c672b9c648": {
     "views": []
    },
    "27f38cd7c3d1452a9ade901430adbc2c": {
     "views": []
    },
    "283a4cfb3bfc4ccb8467b50ad26f21e8": {
     "views": []
    },
    "2b1a26de599546cb9bffe25dff5b7fc0": {
     "views": []
    },
    "2c78a8649d0444c98d2a417961aefb89": {
     "views": []
    },
    "2ca551a59418425f93e40b8a50ae267c": {
     "views": []
    },
    "2d2cdd4040874063b0826b7620427ef5": {
     "views": []
    },
    "31eac39b5ec544f99a96d8f854422230": {
     "views": []
    },
    "325babb937b24431969279afdd50e2b0": {
     "views": []
    },
    "32dc9cf8db314eb1a8f6b94c1723972a": {
     "views": []
    },
    "35e5748b72414694b447ad74f60e3f1a": {
     "views": []
    },
    "365f6555e2704169b7c18a480d03904b": {
     "views": []
    },
    "36c3135220e740ababa944354afe56f7": {
     "views": []
    },
    "3a0f0e5e64df4a809d692400f3b8f848": {
     "views": []
    },
    "3b47bc33c6c24ef4ab702eb195c69bf2": {
     "views": []
    },
    "3c58ca309ab1477daf362d17b15e55a4": {
     "views": []
    },
    "44ea878f6b9f447394f63fdf5f15745b": {
     "views": []
    },
    "4a6bda623b714042b66881dc44931a8c": {
     "views": []
    },
    "4b7def6534184f618a84bb92f9c07e1b": {
     "views": []
    },
    "4bbe2ba7a5c4415ebd4a0b1824de2cf8": {
     "views": []
    },
    "4d4c36b18ce1459b95e194d583f794e8": {
     "views": []
    },
    "508e47b97c2e40b18f507260e9c6c235": {
     "views": []
    },
    "5109ca633f35406bb5a6dd577bf74d61": {
     "views": []
    },
    "52176cdbbadd4c40bc17f09579de061d": {
     "views": []
    },
    "534c93196e5a421b82b1b17b884d9032": {
     "views": []
    },
    "550bd327001249778f9fc02485bffd6e": {
     "views": []
    },
    "5917ec80c381465aa15e48a0ad713860": {
     "views": []
    },
    "5c89dbcedb5b407596bb2a690f7b1023": {
     "views": []
    },
    "5d952ebb0cc94b7781d6499820839279": {
     "views": [
      {
       "cell_index": 7
      }
     ]
    },
    "61890849bbf34aff9e0c163f8091690f": {
     "views": []
    },
    "68ebf6c4cbd647189462da0d63abb6fc": {
     "views": [
      {
       "cell_index": 7
      }
     ]
    },
    "68fd55f96d414bef99ba78635d43964d": {
     "views": []
    },
    "6ab8747e559a4477a0da1faa64691ef3": {
     "views": []
    },
    "6cfca3c9474f41658e4b42bac8672d73": {
     "views": []
    },
    "6d50dfed6dfe4901953d05cc09aa1bc3": {
     "views": [
      {
       "cell_index": 7
      }
     ]
    },
    "6d60b6edecf847a2a75ae15da88a3277": {
     "views": []
    },
    "6de163ff386849509c41cd4dbe1eeb12": {
     "views": []
    },
    "6e2c7c21b9b147d6b5be3ce4b8fa13de": {
     "views": [
      {
       "cell_index": 7
      }
     ]
    },
    "6f6de81f511b4d23968b97bfe4bf82af": {
     "views": []
    },
    "6fedcb7a43c34f8fbf32c7225b947124": {
     "views": []
    },
    "7411c021adad4a5d82b498771e75f87b": {
     "views": []
    },
    "75597a36cce34fcba95d2765e5a5d267": {
     "views": []
    },
    "76fb1df3c6794fb6b2cc6fd022a3eaea": {
     "views": []
    },
    "786d4e0130694b9da8dee411559d7c7d": {
     "views": []
    },
    "79f59a636a8f4e0db77ef6db71cbf8ff": {
     "views": []
    },
    "7b382393536e458a9871f5bc48406f8b": {
     "views": []
    },
    "7cb757734e954f4da0f917bf4ba369ee": {
     "views": []
    },
    "7d9bc73358c643889bea345661db61b0": {
     "views": []
    },
    "7de5a15c4ed847ee8036a6ffd981ac38": {
     "views": []
    },
    "7fb9b7c935704dedb43c414a91fdd99c": {
     "views": []
    },
    "80c6554a2d214fc68854403077692760": {
     "views": []
    },
    "83629c1095494e0cbace53e708653192": {
     "views": []
    },
    "8419aba7048542d99e56aafc86d7d7e0": {
     "views": []
    },
    "87518a338b814910881049d952f79dd6": {
     "views": []
    },
    "88d53d6fd8114ddb9f4194eec908ae9f": {
     "views": []
    },
    "896570765c6a49efa22d4179d9e6122e": {
     "views": []
    },
    "899b7d1f5d3e401e9a60cad5dd50430b": {
     "views": [
      {
       "cell_index": 7
      }
     ]
    },
    "8b5b5929cf4543eca6cb855e49b3338b": {
     "views": []
    },
    "8d974fd760e246a2bb0fb55e927dcef4": {
     "views": []
    },
    "8e511c07d9fb441193f02ae109ea6e74": {
     "views": []
    },
    "92ae5d76c1c141b58500a326a7ae2f50": {
     "views": []
    },
    "991d784580f4498c97ad42886b40412e": {
     "views": []
    },
    "a8a9fbe747804dbd8b4cdf83f926db1b": {
     "views": []
    },
    "a9572d0637c94371b3e760974fa44646": {
     "views": []
    },
    "ae7267ddabe64c8c836d97de34af3ed9": {
     "views": []
    },
    "b089920789ba4dba93f9dcff30883455": {
     "views": []
    },
    "b1db084347cb4daf9b285497c084f7c0": {
     "views": []
    },
    "b304e0f03a744279b4334bb1b6f82fc6": {
     "views": []
    },
    "b4201b3ec65444fba48c648f38e0ea52": {
     "views": []
    },
    "b99f29b58e584e7a8981596e1038bb87": {
     "views": []
    },
    "bb132b88a7ff4296bdf9eb92f45b572f": {
     "views": []
    },
    "bb42543efa36445a8ac82ee49885e1e2": {
     "views": []
    },
    "bdb7c9c2446f46c4ba6a0466600e2aa5": {
     "views": []
    },
    "bffca4fa6d3544dfb9bc6027785a3ef5": {
     "views": []
    },
    "c16fc8b915df458d8f1cb3e2142812b9": {
     "views": []
    },
    "c2e33c36bac6406694d0de9d786e3421": {
     "views": []
    },
    "c7902d5de4ba49288dfc7e578bf74353": {
     "views": []
    },
    "c9c2ea1c6dd24bfca2f70d5fdbd8d305": {
     "views": []
    },
    "cd30003616cd4f298327973cba73d037": {
     "views": [
      {
       "cell_index": 7
      }
     ]
    },
    "ce2ff2086ad64a609a07a5eada62f9cb": {
     "views": []
    },
    "d1ec23463c6c412597001a51f2367219": {
     "views": []
    },
    "d26845262571456f85231352e2522c77": {
     "views": []
    },
    "d4d5579edfab4646ab0c9d14e95a1730": {
     "views": []
    },
    "d84fa78e55ff4b67a063b48ca451143f": {
     "views": []
    },
    "dcae129c603c4f59b192973cde3c921b": {
     "views": []
    },
    "dd1f967746d843078958c295c3d35350": {
     "views": []
    },
    "ddf87ea035f7404d9ad363e83184894c": {
     "views": []
    },
    "e1cd3ee581aa452aa324786f8dfe7f98": {
     "views": []
    },
    "e23bdec090dc4bfd8733be069bb2887e": {
     "views": []
    },
    "e45ce659e5d6466c9b12d695f82580e6": {
     "views": []
    },
    "e58019749571409d9cbcfd1b94c7e27f": {
     "views": []
    },
    "ed526877c7ed442a8b3a1ed729a28893": {
     "views": []
    },
    "ed6812f361454b3f924518b3f260b2a5": {
     "views": []
    },
    "ee724d659bb542a48764f90f35a85d1c": {
     "views": []
    },
    "eec9886156de4d1ab1696a7d235586bd": {
     "views": []
    },
    "ef0b3ae268fe4994b148ee363014568b": {
     "views": []
    },
    "eff226765c96435a86bb658692c6a39c": {
     "views": []
    },
    "f17217329c9445f79fdb6e41f11561ab": {
     "views": []
    },
    "fa02e1fb282345c0bcf314103058dec3": {
     "views": []
    },
    "fae7859ca50a4cfd9a0bff9659d75c26": {
     "views": []
    }
   },
   "version": "1.1.2"
  }
 },
 "nbformat": 4,
 "nbformat_minor": 0
}
